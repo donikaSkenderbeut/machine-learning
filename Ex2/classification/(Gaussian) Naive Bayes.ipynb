{
 "cells": [
  {
   "cell_type": "code",
   "execution_count": 7,
   "id": "5414691b",
   "metadata": {},
   "outputs": [],
   "source": [
    "import pandas as pd\n",
    "import numpy as np\n",
    "import seaborn as sns\n",
    "import matplotlib.pyplot as plt"
   ]
  },
  {
   "cell_type": "code",
   "execution_count": 8,
   "id": "6b6f4892",
   "metadata": {},
   "outputs": [
    {
     "data": {
      "text/html": [
       "<div>\n",
       "<style scoped>\n",
       "    .dataframe tbody tr th:only-of-type {\n",
       "        vertical-align: middle;\n",
       "    }\n",
       "\n",
       "    .dataframe tbody tr th {\n",
       "        vertical-align: top;\n",
       "    }\n",
       "\n",
       "    .dataframe thead th {\n",
       "        text-align: right;\n",
       "    }\n",
       "</style>\n",
       "<table border=\"1\" class=\"dataframe\">\n",
       "  <thead>\n",
       "    <tr style=\"text-align: right;\">\n",
       "      <th></th>\n",
       "      <th>volatile acidity</th>\n",
       "      <th>residual sugar</th>\n",
       "      <th>chlorides</th>\n",
       "      <th>total sulfur dioxide</th>\n",
       "      <th>density</th>\n",
       "      <th>pH</th>\n",
       "      <th>sulphates</th>\n",
       "      <th>alcohol</th>\n",
       "      <th>quality</th>\n",
       "    </tr>\n",
       "  </thead>\n",
       "  <tbody>\n",
       "    <tr>\n",
       "      <th>0</th>\n",
       "      <td>0.70</td>\n",
       "      <td>0.641854</td>\n",
       "      <td>-2.577022</td>\n",
       "      <td>3.526361</td>\n",
       "      <td>0.9978</td>\n",
       "      <td>3.51</td>\n",
       "      <td>0.56</td>\n",
       "      <td>2.240710</td>\n",
       "      <td>0</td>\n",
       "    </tr>\n",
       "    <tr>\n",
       "      <th>1</th>\n",
       "      <td>0.88</td>\n",
       "      <td>0.955511</td>\n",
       "      <td>-2.322788</td>\n",
       "      <td>4.204693</td>\n",
       "      <td>0.9968</td>\n",
       "      <td>3.20</td>\n",
       "      <td>0.68</td>\n",
       "      <td>2.282382</td>\n",
       "      <td>0</td>\n",
       "    </tr>\n",
       "    <tr>\n",
       "      <th>2</th>\n",
       "      <td>0.76</td>\n",
       "      <td>0.832909</td>\n",
       "      <td>-2.385967</td>\n",
       "      <td>3.988984</td>\n",
       "      <td>0.9970</td>\n",
       "      <td>3.26</td>\n",
       "      <td>0.65</td>\n",
       "      <td>2.282382</td>\n",
       "      <td>0</td>\n",
       "    </tr>\n",
       "    <tr>\n",
       "      <th>3</th>\n",
       "      <td>0.28</td>\n",
       "      <td>0.641854</td>\n",
       "      <td>-2.590267</td>\n",
       "      <td>4.094345</td>\n",
       "      <td>0.9980</td>\n",
       "      <td>3.16</td>\n",
       "      <td>0.58</td>\n",
       "      <td>2.282382</td>\n",
       "      <td>1</td>\n",
       "    </tr>\n",
       "    <tr>\n",
       "      <th>4</th>\n",
       "      <td>0.70</td>\n",
       "      <td>0.641854</td>\n",
       "      <td>-2.577022</td>\n",
       "      <td>3.526361</td>\n",
       "      <td>0.9978</td>\n",
       "      <td>3.51</td>\n",
       "      <td>0.56</td>\n",
       "      <td>2.240710</td>\n",
       "      <td>0</td>\n",
       "    </tr>\n",
       "  </tbody>\n",
       "</table>\n",
       "</div>"
      ],
      "text/plain": [
       "   volatile acidity  residual sugar  chlorides  total sulfur dioxide  density  \\\n",
       "0              0.70        0.641854  -2.577022              3.526361   0.9978   \n",
       "1              0.88        0.955511  -2.322788              4.204693   0.9968   \n",
       "2              0.76        0.832909  -2.385967              3.988984   0.9970   \n",
       "3              0.28        0.641854  -2.590267              4.094345   0.9980   \n",
       "4              0.70        0.641854  -2.577022              3.526361   0.9978   \n",
       "\n",
       "     pH  sulphates   alcohol  quality  \n",
       "0  3.51       0.56  2.240710        0  \n",
       "1  3.20       0.68  2.282382        0  \n",
       "2  3.26       0.65  2.282382        0  \n",
       "3  3.16       0.58  2.282382        1  \n",
       "4  3.51       0.56  2.240710        0  "
      ]
     },
     "execution_count": 8,
     "metadata": {},
     "output_type": "execute_result"
    }
   ],
   "source": [
    "df = pd.read_csv('../data/wine-quality-preprocessed.csv')\n",
    "df.head()"
   ]
  },
  {
   "cell_type": "code",
   "execution_count": 9,
   "id": "83b3dadc",
   "metadata": {},
   "outputs": [
    {
     "data": {
      "text/html": [
       "<div>\n",
       "<style scoped>\n",
       "    .dataframe tbody tr th:only-of-type {\n",
       "        vertical-align: middle;\n",
       "    }\n",
       "\n",
       "    .dataframe tbody tr th {\n",
       "        vertical-align: top;\n",
       "    }\n",
       "\n",
       "    .dataframe thead th {\n",
       "        text-align: right;\n",
       "    }\n",
       "</style>\n",
       "<table border=\"1\" class=\"dataframe\">\n",
       "  <thead>\n",
       "    <tr style=\"text-align: right;\">\n",
       "      <th></th>\n",
       "      <th>volatile acidity</th>\n",
       "      <th>residual sugar</th>\n",
       "      <th>chlorides</th>\n",
       "      <th>total sulfur dioxide</th>\n",
       "      <th>density</th>\n",
       "      <th>pH</th>\n",
       "      <th>sulphates</th>\n",
       "      <th>alcohol</th>\n",
       "      <th>quality</th>\n",
       "    </tr>\n",
       "  </thead>\n",
       "  <tbody>\n",
       "    <tr>\n",
       "      <th>3</th>\n",
       "      <td>0.28</td>\n",
       "      <td>0.641854</td>\n",
       "      <td>-2.590267</td>\n",
       "      <td>4.094345</td>\n",
       "      <td>0.99800</td>\n",
       "      <td>3.16</td>\n",
       "      <td>0.58</td>\n",
       "      <td>2.282382</td>\n",
       "      <td>1</td>\n",
       "    </tr>\n",
       "    <tr>\n",
       "      <th>7</th>\n",
       "      <td>0.65</td>\n",
       "      <td>0.182322</td>\n",
       "      <td>-2.733368</td>\n",
       "      <td>3.044522</td>\n",
       "      <td>0.99460</td>\n",
       "      <td>3.39</td>\n",
       "      <td>0.47</td>\n",
       "      <td>2.302585</td>\n",
       "      <td>1</td>\n",
       "    </tr>\n",
       "    <tr>\n",
       "      <th>8</th>\n",
       "      <td>0.58</td>\n",
       "      <td>0.693147</td>\n",
       "      <td>-2.617296</td>\n",
       "      <td>2.890372</td>\n",
       "      <td>0.99680</td>\n",
       "      <td>3.36</td>\n",
       "      <td>0.57</td>\n",
       "      <td>2.251292</td>\n",
       "      <td>1</td>\n",
       "    </tr>\n",
       "    <tr>\n",
       "      <th>14</th>\n",
       "      <td>0.28</td>\n",
       "      <td>0.587787</td>\n",
       "      <td>-2.385967</td>\n",
       "      <td>4.634729</td>\n",
       "      <td>0.99690</td>\n",
       "      <td>3.30</td>\n",
       "      <td>0.75</td>\n",
       "      <td>2.351375</td>\n",
       "      <td>1</td>\n",
       "    </tr>\n",
       "    <tr>\n",
       "      <th>16</th>\n",
       "      <td>0.22</td>\n",
       "      <td>0.587787</td>\n",
       "      <td>-2.563950</td>\n",
       "      <td>4.094345</td>\n",
       "      <td>0.99680</td>\n",
       "      <td>3.39</td>\n",
       "      <td>0.53</td>\n",
       "      <td>2.240710</td>\n",
       "      <td>1</td>\n",
       "    </tr>\n",
       "    <tr>\n",
       "      <th>...</th>\n",
       "      <td>...</td>\n",
       "      <td>...</td>\n",
       "      <td>...</td>\n",
       "      <td>...</td>\n",
       "      <td>...</td>\n",
       "      <td>...</td>\n",
       "      <td>...</td>\n",
       "      <td>...</td>\n",
       "      <td>...</td>\n",
       "    </tr>\n",
       "    <tr>\n",
       "      <th>1471</th>\n",
       "      <td>0.51</td>\n",
       "      <td>0.832909</td>\n",
       "      <td>-2.577022</td>\n",
       "      <td>3.688879</td>\n",
       "      <td>0.99574</td>\n",
       "      <td>3.42</td>\n",
       "      <td>0.75</td>\n",
       "      <td>2.397895</td>\n",
       "      <td>1</td>\n",
       "    </tr>\n",
       "    <tr>\n",
       "      <th>1472</th>\n",
       "      <td>0.62</td>\n",
       "      <td>0.641854</td>\n",
       "      <td>-2.688248</td>\n",
       "      <td>3.637586</td>\n",
       "      <td>0.99651</td>\n",
       "      <td>3.42</td>\n",
       "      <td>0.82</td>\n",
       "      <td>2.251292</td>\n",
       "      <td>1</td>\n",
       "    </tr>\n",
       "    <tr>\n",
       "      <th>1474</th>\n",
       "      <td>0.55</td>\n",
       "      <td>0.788457</td>\n",
       "      <td>-2.780621</td>\n",
       "      <td>3.931826</td>\n",
       "      <td>0.99512</td>\n",
       "      <td>3.52</td>\n",
       "      <td>0.76</td>\n",
       "      <td>2.415914</td>\n",
       "      <td>1</td>\n",
       "    </tr>\n",
       "    <tr>\n",
       "      <th>1475</th>\n",
       "      <td>0.51</td>\n",
       "      <td>0.832909</td>\n",
       "      <td>-2.577022</td>\n",
       "      <td>3.688879</td>\n",
       "      <td>0.99574</td>\n",
       "      <td>3.42</td>\n",
       "      <td>0.75</td>\n",
       "      <td>2.397895</td>\n",
       "      <td>1</td>\n",
       "    </tr>\n",
       "    <tr>\n",
       "      <th>1477</th>\n",
       "      <td>0.31</td>\n",
       "      <td>1.280934</td>\n",
       "      <td>-2.703063</td>\n",
       "      <td>3.737670</td>\n",
       "      <td>0.99549</td>\n",
       "      <td>3.39</td>\n",
       "      <td>0.66</td>\n",
       "      <td>2.397895</td>\n",
       "      <td>1</td>\n",
       "    </tr>\n",
       "  </tbody>\n",
       "</table>\n",
       "<p>800 rows × 9 columns</p>\n",
       "</div>"
      ],
      "text/plain": [
       "      volatile acidity  residual sugar  chlorides  total sulfur dioxide  \\\n",
       "3                 0.28        0.641854  -2.590267              4.094345   \n",
       "7                 0.65        0.182322  -2.733368              3.044522   \n",
       "8                 0.58        0.693147  -2.617296              2.890372   \n",
       "14                0.28        0.587787  -2.385967              4.634729   \n",
       "16                0.22        0.587787  -2.563950              4.094345   \n",
       "...                ...             ...        ...                   ...   \n",
       "1471              0.51        0.832909  -2.577022              3.688879   \n",
       "1472              0.62        0.641854  -2.688248              3.637586   \n",
       "1474              0.55        0.788457  -2.780621              3.931826   \n",
       "1475              0.51        0.832909  -2.577022              3.688879   \n",
       "1477              0.31        1.280934  -2.703063              3.737670   \n",
       "\n",
       "      density    pH  sulphates   alcohol  quality  \n",
       "3     0.99800  3.16       0.58  2.282382        1  \n",
       "7     0.99460  3.39       0.47  2.302585        1  \n",
       "8     0.99680  3.36       0.57  2.251292        1  \n",
       "14    0.99690  3.30       0.75  2.351375        1  \n",
       "16    0.99680  3.39       0.53  2.240710        1  \n",
       "...       ...   ...        ...       ...      ...  \n",
       "1471  0.99574  3.42       0.75  2.397895        1  \n",
       "1472  0.99651  3.42       0.82  2.251292        1  \n",
       "1474  0.99512  3.52       0.76  2.415914        1  \n",
       "1475  0.99574  3.42       0.75  2.397895        1  \n",
       "1477  0.99549  3.39       0.66  2.397895        1  \n",
       "\n",
       "[800 rows x 9 columns]"
      ]
     },
     "execution_count": 9,
     "metadata": {},
     "output_type": "execute_result"
    }
   ],
   "source": [
    "df[(df['quality'] > 0)]"
   ]
  },
  {
   "cell_type": "code",
   "execution_count": 11,
   "id": "2a3b937e",
   "metadata": {},
   "outputs": [],
   "source": [
    "class NaiveBayes:\n",
    "    def __init__(self, X_train, y_train):\n",
    "        self.y_train = y_train\n",
    "        self.X_train = X_train\n",
    "        self.df = pd.concat([X_train, y_train], axis=1)\n",
    "        \n",
    "        \n",
    "    def prior_probability(self, values):\n",
    "        l = []\n",
    "        n = self.y_train.count()\n",
    "        for v in values:\n",
    "            p = self.y_train[(self.y_train == v)].count()\n",
    "            l.append(p/n)\n",
    "        return l\n",
    "\n",
    "    def likelyhood_probability(self,feature,x, label, value):\n",
    "        #only considering values with given outcome\n",
    "        df = self.df[(self.df[label] == value)]\n",
    "        mean = df[feature].mean()\n",
    "        sd = df[feature].std()\n",
    "        #build gaussian distribution PDF\n",
    "        prob = (1 / (sd * np.sqrt(2 * np.pi))) * (np.exp(-(1/2) * ((x-mean)/sd)**2))\n",
    "        return prob\n",
    "\n",
    "    def predict(self,X, label):\n",
    "        \n",
    "        features = list(X.columns)\n",
    "        values = np.unique(df[label])\n",
    "        #print(values)\n",
    "        prior = self.prior_probability(values=values)\n",
    "        #print(prior)\n",
    "        y_pred = []\n",
    "        for index, row in X.iterrows():\n",
    "            likelyhood = [1] * len(values)\n",
    "            for v in range(len(values)):\n",
    "                for f in features:\n",
    "                    p = self.likelyhood_probability(f,row[f],label,values[v])\n",
    "                    likelyhood[v] *= p\n",
    "        \n",
    "            post = [0,0]\n",
    "            for l in range(2):\n",
    "                post[l] = likelyhood[l] * prior[l]\n",
    "        \n",
    "            #print(post)\n",
    "            y_pred.append(np.argmax(post))\n",
    "        return np.array(y_pred)\n",
    "    "
   ]
  },
  {
   "cell_type": "code",
   "execution_count": 12,
   "id": "fb4ccdcb",
   "metadata": {},
   "outputs": [
    {
     "name": "stdout",
     "output_type": "stream",
     "text": [
      "[[166  72]\n",
      " [ 74 176]]\n",
      "Naive Bayes f1:  0.7068273092369478\n",
      "Naive Bayes accuracy:  0.7008196721311475\n",
      "---------sklearn--------\n",
      "Sklearn Naive Bayes f1:  0.7068273092369478\n",
      "Sklearn Naive Bayes accuracy:  0.7008196721311475\n"
     ]
    }
   ],
   "source": [
    "from sklearn.model_selection import train_test_split\n",
    "from sklearn.metrics import confusion_matrix, f1_score, accuracy_score\n",
    "from sklearn.naive_bayes import GaussianNB\n",
    "\n",
    "X_train, X_test, y_train, y_test = train_test_split(df.loc[:, df.columns != 'quality'], df['quality'], test_size=0.33, random_state=42)\n",
    "#train = X_train\n",
    "#train['quality'] = y_train\n",
    "\n",
    "#y_pred = naive_bayes(train, X=X_test)\n",
    "model = NaiveBayes(X_train,y_train)\n",
    "y_pred= model.predict(X_test,'quality')\n",
    "print(confusion_matrix(y_test, y_pred))\n",
    "print(\"Naive Bayes f1: \",f1_score(y_test, y_pred))\n",
    "print(\"Naive Bayes accuracy: \",accuracy_score(y_test, y_pred))\n",
    "\n",
    "print('---------sklearn--------')\n",
    "\n",
    "clf = GaussianNB()\n",
    "clf.fit(X_train,y_train)\n",
    "y_pred_clf = clf.predict(X_test)\n",
    "print(\"Sklearn Naive Bayes f1: \",f1_score(y_test, y_pred_clf))\n",
    "print(\"Sklearn Naive Bayes accuracy: \",accuracy_score(y_test, y_pred_clf))\n",
    "\n",
    "# build confusion matrix\n",
    "def confusionMtx(y_pred, y_test):\n",
    "    data = {'y_actual':    y_test,'y_predicted': y_pred}\n",
    "    df = pd.DataFrame(data)\n",
    "    confusion_matrix = pd.crosstab(df['y_actual'], df['y_predicted'], rownames=['Actual'], colnames=['Predicted'])\n",
    "    print(confusion_matrix)\n",
    "\n",
    "\n",
    "\n"
   ]
  },
  {
   "cell_type": "code",
   "execution_count": 16,
   "id": "e422d06f",
   "metadata": {},
   "outputs": [
    {
     "name": "stdout",
     "output_type": "stream",
     "text": [
      "5  fold CV Score:  0.7266743014200641\n"
     ]
    }
   ],
   "source": [
    "# cross validation\n",
    "from sklearn.metrics import confusion_matrix as cm\n",
    "\n",
    "\n",
    "def perform(clf, train_set, test_set):\n",
    "    # remove labels from data\n",
    "    xtr = train_set.loc[:, train_set.columns != 'quality']\n",
    "    ytr = train_set['quality']\n",
    "    xt = test_set.loc[:, test_set.columns != 'quality']\n",
    "    yt = test_set['quality']\n",
    "    model = NaiveBayes(xtr,ytr)\n",
    "    y_pred= model.predict(xt,'quality')\n",
    "    #print(len(y_pred))\n",
    "    #print('----')\n",
    "    #print(len(yt.to_numpy()))\n",
    "    #print(\"CV Naive Bayes accuracy: \",accuracy_score(yt, y_pred))\n",
    "    return(accuracy_score(yt, y_pred))\n",
    "\n",
    "\n",
    "k = 5\n",
    "folds = np.array_split(df, k)\n",
    "accuracy_scores = []\n",
    "for i in range(k):\n",
    "    train = folds.copy() \n",
    "    test = folds[i]\n",
    "    del train[i]\n",
    "    train = pd.concat(train, sort=False)\n",
    "    accuracy_scores.append(perform(clf, train.copy(), test.copy()))\n",
    "    \n",
    "print(k, ' fold CV Score: ', np.mean(accuracy_scores))\n"
   ]
  },
  {
   "cell_type": "code",
   "execution_count": 17,
   "id": "97f6ef9f-b3ad-48b0-b027-f351be6f0189",
   "metadata": {},
   "outputs": [
    {
     "name": "stdout",
     "output_type": "stream",
     "text": [
      "Confusion matrix\n",
      "\n",
      " [[166  72]\n",
      " [ 74 176]]\n",
      "\n",
      "True Positives(TP) =  166\n",
      "\n",
      "True Negatives(TN) =  176\n",
      "\n",
      "False Positives(FP) =  72\n",
      "\n",
      "False Negatives(FN) =  74\n"
     ]
    },
    {
     "data": {
      "text/plain": [
       "<AxesSubplot:>"
      ]
     },
     "execution_count": 17,
     "metadata": {},
     "output_type": "execute_result"
    },
    {
     "data": {
      "image/png": "[encoded data removed]",
      "text/plain": [
       "<Figure size 432x288 with 2 Axes>"
      ]
     },
     "metadata": {
      "needs_background": "light"
     },
     "output_type": "display_data"
    }
   ],
   "source": [
    "from sklearn.metrics import confusion_matrix\n",
    "\n",
    "cm = confusion_matrix(y_test, y_pred)\n",
    "\n",
    "print('Confusion matrix\\n\\n', cm)\n",
    "\n",
    "print('\\nTrue Positives(TP) = ', cm[0,0])\n",
    "\n",
    "print('\\nTrue Negatives(TN) = ', cm[1,1])\n",
    "\n",
    "print('\\nFalse Positives(FP) = ', cm[0,1])\n",
    "\n",
    "print('\\nFalse Negatives(FN) = ', cm[1,0])\n",
    "\n",
    "cm_matrix = pd.DataFrame(data=cm, columns=['Actual Positive:1', 'Actual Negative:0'], \n",
    "                                 index=['Predict Positive:1', 'Predict Negative:0'])\n",
    "\n",
    "sns.heatmap(cm_matrix, annot=True, fmt='d', cmap='YlGnBu')"
   ]
  },
  {
   "cell_type": "code",
   "execution_count": null,
   "id": "b3ff54c5",
   "metadata": {},
   "outputs": [],
   "source": [
    "#Here we see that its quite a downing trend in the volatile acidity as we go higher the quality \n"
   ]
  },
  {
   "cell_type": "code",
   "execution_count": 19,
   "id": "a34bb96d",
   "metadata": {},
   "outputs": [
    {
     "data": {
      "text/plain": [
       "<AxesSubplot:xlabel='quality', ylabel='volatile acidity'>"
      ]
     },
     "execution_count": 19,
     "metadata": {},
     "output_type": "execute_result"
    },
    {
     "data": {
      "image/png": "[encoded data removed]",
      "text/plain": [
       "<Figure size 432x288 with 1 Axes>"
      ]
     },
     "metadata": {
      "needs_background": "light"
     },
     "output_type": "display_data"
    }
   ],
   "source": [
    "sns.barplot(x = 'quality', y = 'volatile acidity', data = df)\n"
   ]
  },
  {
   "cell_type": "code",
   "execution_count": 22,
   "id": "1d8813cb",
   "metadata": {},
   "outputs": [
    {
     "data": {
      "text/plain": [
       "<AxesSubplot:xlabel='quality', ylabel='sulphates'>"
      ]
     },
     "execution_count": 22,
     "metadata": {},
     "output_type": "execute_result"
    },
    {
     "data": {
      "image/png": "[encoded data removed]",
      "text/plain": [
       "<Figure size 720x432 with 1 Axes>"
      ]
     },
     "metadata": {
      "needs_background": "light"
     },
     "output_type": "display_data"
    }
   ],
   "source": [
    "#Sulphates level goes higher with the quality of wine\n",
    "\n",
    "fig = plt.figure(figsize = (10,6))\n",
    "sns.barplot(x = 'quality', y = 'sulphates', data = df)\n"
   ]
  },
  {
   "cell_type": "code",
   "execution_count": 24,
   "id": "048e90f6",
   "metadata": {},
   "outputs": [
    {
     "data": {
      "text/plain": [
       "<AxesSubplot:xlabel='quality', ylabel='alcohol'>"
      ]
     },
     "execution_count": 24,
     "metadata": {},
     "output_type": "execute_result"
    },
    {
     "data": {
      "image/png": "[encoded data removed]",
      "text/plain": [
       "<Figure size 720x432 with 1 Axes>"
      ]
     },
     "metadata": {
      "needs_background": "light"
     },
     "output_type": "display_data"
    }
   ],
   "source": [
    "#Alcohol level also goes higher as te quality of wine increases\n",
    "fig = plt.figure(figsize = (10,6))\n",
    "sns.barplot(x = 'quality', y = 'alcohol', data = df)\n"
   ]
  },
  {
   "cell_type": "code",
   "execution_count": null,
   "id": "5afde718",
   "metadata": {},
   "outputs": [],
   "source": []
  }
 ],
 "metadata": {
  "kernelspec": {
   "display_name": "Python 3 (ipykernel)",
   "language": "python",
   "name": "python3"
  },
  "language_info": {
   "codemirror_mode": {
    "name": "ipython",
    "version": 3
   },
   "file_extension": ".py",
   "mimetype": "text/x-python",
   "name": "python",
   "nbconvert_exporter": "python",
   "pygments_lexer": "ipython3",
   "version": "3.9.12"
  }
 },
 "nbformat": 4,
 "nbformat_minor": 5
}
