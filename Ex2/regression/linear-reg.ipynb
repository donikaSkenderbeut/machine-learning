{
 "cells": [
  {
   "cell_type": "code",
   "execution_count": 1,
   "metadata": {},
   "outputs": [],
   "source": [
    "import numpy as np\n",
    "import pandas as pd\n",
    "from sklearn.linear_model import LinearRegression, Ridge\n",
    "from sklearn.metrics import r2_score\n",
    "from sklearn import preprocessing\n",
    "from sklearn.preprocessing import StandardScaler"
   ]
  },
  {
   "cell_type": "code",
   "execution_count": 2,
   "metadata": {},
   "outputs": [],
   "source": [
    "train = pd.read_csv('../data/regression/Real estate train.csv')\n",
    "train.drop('Unnamed: 0', inplace=True, axis=1)"
   ]
  },
  {
   "cell_type": "code",
   "execution_count": 3,
   "metadata": {},
   "outputs": [],
   "source": [
    "class LinearReg:\n",
    "    def fit(self, X, y):\n",
    "        X = np.insert(X, 0, np.ones(X.shape[0]), axis=1)\n",
    "        prod_1 = np.matmul(X.transpose(), X)\n",
    "        prod_2 = np.matmul(np.linalg.inv(prod_1), X.transpose())\n",
    "        self.beta = np.matmul(prod_2, y)\n",
    "    \n",
    "    def predict(self, X_test):\n",
    "        tmp = np.insert(X_test, 0, np.ones(X_test.shape[0]), axis=1)\n",
    "        return np.matmul(tmp, self.beta)"
   ]
  },
  {
   "cell_type": "code",
   "execution_count": 4,
   "metadata": {},
   "outputs": [],
   "source": [
    "class RidgeReg(float):\n",
    "    def __init__(self, l):\n",
    "        self.l = l\n",
    "\n",
    "    def fit(self, X, y):\n",
    "        identity_matrix = np.identity(X.shape[1])\n",
    "        prod_1 = np.matmul(X.transpose(), X)\n",
    "        prod_2 = self.l * identity_matrix\n",
    "        term_1 = np.add(prod_1, prod_2)\n",
    "        prod_3 = np.matmul(np.linalg.inv(term_1), X.transpose())\n",
    "\n",
    "        center_function = lambda x: x - x.mean()\n",
    "        y_centered = center_function(y)\n",
    "        self.y_mean = y.mean()\n",
    "\n",
    "        self.beta_rdige = np.matmul(prod_3, y_centered)\n",
    "    \n",
    "    def predict(self, X_test):\n",
    "        inverse_center = lambda x: x + self.y_mean\n",
    "        return inverse_center(np.matmul(X_test, self.beta_rdige))"
   ]
  },
  {
   "cell_type": "code",
   "execution_count": 5,
   "metadata": {},
   "outputs": [],
   "source": [
    "X_train = train.drop('target', axis=1)\n",
    "y_train = train['target']\n",
    "\n",
    "test = pd.read_csv('../data/regression/Real estate test.csv')\n",
    "test.drop('Unnamed: 0', inplace=True, axis=1)\n",
    "X_test = test.drop('target', axis=1)\n",
    "y_test = test['target']"
   ]
  },
  {
   "cell_type": "code",
   "execution_count": 6,
   "metadata": {},
   "outputs": [
    {
     "name": "stdout",
     "output_type": "stream",
     "text": [
      "Sklearn's Linear Regression R2:  0.6974280661583803\n",
      "---------------------\n",
      "Manual Implementation of Linear Regression R2:  0.6974280661583803\n"
     ]
    }
   ],
   "source": [
    "sk_linreg = LinearRegression()\n",
    "sk_linreg.fit(X_train, y_train)\n",
    "y_pred = sk_linreg.predict(X_test)\n",
    "\n",
    "linreg = LinearReg()\n",
    "linreg.fit(X_train.values, y_train.values)\n",
    "y_pred_manual = linreg.predict(X_test.values)\n",
    "\n",
    "print(\"Sklearn's Linear Regression R2: \", r2_score(y_test, y_pred))\n",
    "print(\"---------------------\")\n",
    "print(\"Manual Implementation of Linear Regression R2: \", r2_score(y_test, y_pred_manual))"
   ]
  },
  {
   "cell_type": "code",
   "execution_count": 7,
   "metadata": {},
   "outputs": [
    {
     "name": "stdout",
     "output_type": "stream",
     "text": [
      "Sklearn's Ridg R2:  0.6974584605943199\n",
      "---------------------\n",
      "Manual Implementation of Ridge Regression R2:  0.6974584605943212\n"
     ]
    }
   ],
   "source": [
    "sk_ridge = Ridge(alpha=1)\n",
    "sk_ridge.fit(X_train.values, y_train.values)\n",
    "y_pred_ridge = sk_ridge.predict(X_test.values)\n",
    "\n",
    "ridge_manual = RidgeReg(l = 1)\n",
    "ridge_manual.fit(X_train.values, y_train.values)\n",
    "y_pred_ridge_manual = ridge_manual.predict(X_test.values)\n",
    "\n",
    "print(\"Sklearn's Ridg R2: \", r2_score(y_test, y_pred_ridge))\n",
    "print(\"---------------------\")\n",
    "print(\"Manual Implementation of Ridge Regression R2: \", r2_score(y_test, y_pred_ridge_manual))"
   ]
  }
 ],
 "metadata": {
  "kernelspec": {
   "display_name": "Python 3.9.7 64-bit",
   "language": "python",
   "name": "python3"
  },
  "language_info": {
   "codemirror_mode": {
    "name": "ipython",
    "version": 3
   },
   "file_extension": ".py",
   "mimetype": "text/x-python",
   "name": "python",
   "nbconvert_exporter": "python",
   "pygments_lexer": "ipython3",
   "version": "3.9.7"
  },
  "orig_nbformat": 4,
  "vscode": {
   "interpreter": {
    "hash": "aee8b7b246df8f9039afb4144a1f6fd8d2ca17a180786b69acc140d282b71a49"
   }
  }
 },
 "nbformat": 4,
 "nbformat_minor": 2
}
