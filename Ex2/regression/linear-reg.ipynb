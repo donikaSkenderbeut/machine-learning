{
 "cells": [
  {
   "cell_type": "code",
   "execution_count": 17,
   "metadata": {},
   "outputs": [],
   "source": [
    "import numpy as np\n",
    "from sklearn.metrics import confusion_matrix\n",
    "import pandas as pd\n",
    "from sklearn import model_selection\n",
    "from sklearn import metrics\n",
    "from sklearn.linear_model import LinearRegression, Ridge\n",
    "from sklearn.metrics import r2_score, mean_absolute_error, mean_squared_error\n",
    "from sklearn import preprocessing\n",
    "from sklearn.preprocessing import StandardScaler\n",
    "from sklearn.model_selection import KFold\n",
    "from skopt import space, gp_minimize\n",
    "from functools import partial\n",
    "import math\n",
    "import matplotlib.pyplot as plt"
   ]
  },
  {
   "cell_type": "code",
   "execution_count": 2,
   "metadata": {},
   "outputs": [],
   "source": [
    "train = pd.read_csv('../data/regression/Real estate train.csv')\n",
    "train.drop('Unnamed: 0', inplace=True, axis=1)"
   ]
  },
  {
   "cell_type": "code",
   "execution_count": 3,
   "metadata": {},
   "outputs": [],
   "source": [
    "class LinearReg:\n",
    "    def fit(self, X, y):\n",
    "        X = np.insert(X, 0, np.ones(X.shape[0]), axis=1)\n",
    "        prod_1 = np.matmul(X.transpose(), X)\n",
    "        prod_2 = np.matmul(np.linalg.inv(prod_1), X.transpose())\n",
    "        self.beta = np.matmul(prod_2, y)\n",
    "    \n",
    "    def predict(self, X_test):\n",
    "        tmp = np.insert(X_test, 0, np.ones(X_test.shape[0]), axis=1)\n",
    "        return np.matmul(tmp, self.beta)"
   ]
  },
  {
   "cell_type": "code",
   "execution_count": 4,
   "metadata": {},
   "outputs": [],
   "source": [
    "class RidgeReg(float):\n",
    "    def __init__(self, l):\n",
    "        self.l = l\n",
    "\n",
    "    def fit(self, X, y):\n",
    "        identity_matrix = np.identity(X.shape[1])\n",
    "        prod_1 = np.matmul(X.transpose(), X)\n",
    "        prod_2 = self.l * identity_matrix\n",
    "        term_1 = np.add(prod_1, prod_2)\n",
    "        prod_3 = np.matmul(np.linalg.inv(term_1), X.transpose())\n",
    "\n",
    "        center_function = lambda x: x - x.mean()\n",
    "        y_centered = center_function(y)\n",
    "        self.y_mean = y.mean()\n",
    "\n",
    "        self.beta_rdige = np.matmul(prod_3, y_centered)\n",
    "    \n",
    "    def predict(self, X_test):\n",
    "        inverse_center = lambda x: x + self.y_mean\n",
    "        return inverse_center(np.matmul(X_test, self.beta_rdige))"
   ]
  },
  {
   "cell_type": "code",
   "execution_count": 5,
   "metadata": {},
   "outputs": [],
   "source": [
    "X_train = train.drop('target', axis=1)\n",
    "y_train = train['target']\n",
    "\n",
    "test = pd.read_csv('../data/regression/Real estate test.csv')\n",
    "test.drop('Unnamed: 0', inplace=True, axis=1)\n",
    "X_test = test.drop('target', axis=1)\n",
    "y_test = test['target']\n"
   ]
  },
  {
   "cell_type": "code",
   "execution_count": 9,
   "metadata": {},
   "outputs": [
    {
     "name": "stdout",
     "output_type": "stream",
     "text": [
      "Sklearn's Linear Regression: \n",
      "R2:  0.6974280661583803\n",
      "MAE:  4.432079085527505\n",
      "RMSE:  5.891202699857207\n",
      "---------------------\n",
      "Manual Implementation of Linear Regression: \n",
      "R2:  0.6974280661583803\n",
      "MAE:  4.432079085527506\n",
      "RMSE:  5.891202699857207\n"
     ]
    }
   ],
   "source": [
    "sk_linreg = LinearRegression()\n",
    "sk_linreg.fit(X_train, y_train)\n",
    "y_pred = sk_linreg.predict(X_test)\n",
    "\n",
    "\n",
    "linreg = LinearReg()\n",
    "linreg.fit(X_train.values, y_train.values)\n",
    "y_pred_manual = linreg.predict(X_test.values)\n",
    "\n",
    "print(\"Sklearn's Linear Regression: \")\n",
    "print(\"R2: \", r2_score(y_test, y_pred))\n",
    "print(\"MAE: \", mean_absolute_error(y_test, y_pred))\n",
    "print(\"RMSE: \", math.sqrt(mean_squared_error(y_test, y_pred)))\n",
    "print(\"---------------------\")\n",
    "print(\"Manual Implementation of Linear Regression: \")\n",
    "print(\"R2: \", r2_score(y_test, y_pred_manual))\n",
    "print(\"MAE: \", mean_absolute_error(y_test, y_pred_manual))\n",
    "print(\"RMSE: \", math.sqrt(mean_squared_error(y_test, y_pred_manual)))"
   ]
  },
  {
   "cell_type": "code",
   "execution_count": 11,
   "metadata": {},
   "outputs": [
    {
     "name": "stdout",
     "output_type": "stream",
     "text": [
      "Sklearn's Ridge: \n",
      "R2:  0.6974584605943199\n",
      "MAE:  4.436143767402348\n",
      "RMSE:  5.890906796205766\n",
      "---------------------\n",
      "Manual Implementation of Ridge Regression: \n",
      "R2:  0.6974584605943212\n",
      "MAE:  4.436143767402327\n",
      "RMSE:  5.890906796205755\n"
     ]
    }
   ],
   "source": [
    "sk_ridge = Ridge(alpha=1)\n",
    "sk_ridge.fit(X_train.values, y_train.values)\n",
    "y_pred_ridge = sk_ridge.predict(X_test.values)\n",
    "\n",
    "\n",
    "ridge_manual = RidgeReg(l = 1)\n",
    "ridge_manual.fit(X_train.values, y_train.values)\n",
    "y_pred_ridge_manual = ridge_manual.predict(X_test.values)\n",
    "\n",
    "print(\"Sklearn's Ridge: \")\n",
    "print(\"R2: \", r2_score(y_test, y_pred_ridge))\n",
    "print(\"MAE: \", mean_absolute_error(y_test, y_pred_ridge))\n",
    "print(\"RMSE: \", math.sqrt(mean_squared_error(y_test, y_pred_ridge)))\n",
    "print(\"---------------------\")\n",
    "print(\"Manual Implementation of Ridge Regression: \")\n",
    "print(\"R2: \", r2_score(y_test, y_pred_ridge_manual))\n",
    "print(\"MAE: \", mean_absolute_error(y_test, y_pred_ridge_manual))\n",
    "print(\"RMSE: \", math.sqrt(mean_squared_error(y_test, y_pred_ridge_manual)))"
   ]
  },
  {
   "cell_type": "code",
   "execution_count": 12,
   "metadata": {},
   "outputs": [],
   "source": [
    "def optimize(par, x, y):\n",
    "    model = RidgeReg(l=par)\n",
    "    kf = KFold(n_splits=5)\n",
    "    accuracies = []\n",
    "    for idx in kf.split(X=x, y=y):\n",
    "        train_idx, test_idx = idx[0], idx[1]\n",
    "        xtrain = x[train_idx]\n",
    "        ytrain = y[train_idx]\n",
    "\n",
    "        xtest = x[test_idx]\n",
    "        ytest = y[test_idx]\n",
    "\n",
    "        model.fit(xtrain, ytrain)\n",
    "        preds = model.predict(xtest)\n",
    "        fold_acc = r2_score(ytest, preds)\n",
    "        accuracies.append(fold_acc)\n",
    "    \n",
    "    return -1.0 * np.mean(accuracies)"
   ]
  },
  {
   "cell_type": "code",
   "execution_count": 20,
   "metadata": {},
   "outputs": [
    {
     "name": "stdout",
     "output_type": "stream",
     "text": [
      "Best hyperparameter:  11\n",
      "Highest R2 Score on the folds:  0.6469289355500194\n"
     ]
    }
   ],
   "source": [
    "max=0\n",
    "best_param=0\n",
    "mean_fold_accs = []\n",
    "for i in range(0,20):\n",
    "    res = optimize(par=i, x=X_train.values, y=y_train.values)\n",
    "    mean_fold_accs.append(-res)\n",
    "    if (max > res):\n",
    "        max=res\n",
    "        best_param=i\n",
    "\n",
    "print(\"Best hyperparameter: \", best_param)\n",
    "print(\"Highest R2 Score on the folds: \", -max)"
   ]
  },
  {
   "cell_type": "code",
   "execution_count": 22,
   "metadata": {},
   "outputs": [
    {
     "data": {
      "image/png": "[encoded data removed]",
      "text/plain": [
       "<Figure size 432x288 with 1 Axes>"
      ]
     },
     "metadata": {
      "needs_background": "light"
     },
     "output_type": "display_data"
    }
   ],
   "source": [
    "x_vals = list(range(0,20))\n",
    "\n",
    "plt.plot(x_vals, mean_fold_accs)\n",
    "plt.title(\"Mean fold R2 for each lambda (Real Estate)\")\n",
    "plt.xlabel(\"Lambda\")\n",
    "plt.ylabel(\"Mean fold R2\")\n",
    "plt.tight_layout()\n",
    "plt.savefig('Mean fold R2 for each lambda (Real Estate).jpg', dpi=300, bbox_inches='tight')"
   ]
  },
  {
   "cell_type": "code",
   "execution_count": 23,
   "metadata": {},
   "outputs": [
    {
     "name": "stdout",
     "output_type": "stream",
     "text": [
      "Manual Implementation of Ridge Regression with Tuning: \n",
      "R2:  0.6977631832334911\n",
      "MAE:  4.469390908104249\n",
      "RMSE:  5.887939360881277\n"
     ]
    }
   ],
   "source": [
    "ridge_manual = RidgeReg(l = 11)\n",
    "ridge_manual.fit(X_train.values, y_train.values)\n",
    "y_pred_ridge_manual = ridge_manual.predict(X_test.values)\n",
    "\n",
    "print(\"Manual Implementation of Ridge Regression with Tuning: \")\n",
    "print(\"R2: \", r2_score(y_test, y_pred_ridge_manual))\n",
    "print(\"MAE: \", mean_absolute_error(y_test, y_pred_ridge_manual))\n",
    "print(\"RMSE: \", math.sqrt(mean_squared_error(y_test, y_pred_ridge_manual)))"
   ]
  }
 ],
 "metadata": {
  "kernelspec": {
   "display_name": "Python 3 (ipykernel)",
   "language": "python",
   "name": "python3"
  },
  "language_info": {
   "codemirror_mode": {
    "name": "ipython",
    "version": 3
   },
   "file_extension": ".py",
   "mimetype": "text/x-python",
   "name": "python",
   "nbconvert_exporter": "python",
   "pygments_lexer": "ipython3",
   "version": "3.10.8"
  },
  "vscode": {
   "interpreter": {
    "hash": "aee8b7b246df8f9039afb4144a1f6fd8d2ca17a180786b69acc140d282b71a49"
   }
  }
 },
 "nbformat": 4,
 "nbformat_minor": 4
}
