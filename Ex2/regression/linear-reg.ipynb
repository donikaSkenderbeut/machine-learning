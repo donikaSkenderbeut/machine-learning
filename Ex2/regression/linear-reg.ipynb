{
 "cells": [
  {
   "cell_type": "code",
   "execution_count": 1,
   "metadata": {},
   "outputs": [],
   "source": [
    "import numpy as np\n",
    "import pandas as pd\n",
    "from sklearn.linear_model import LinearRegression\n",
    "from sklearn.metrics import r2_score"
   ]
  },
  {
   "cell_type": "code",
   "execution_count": 2,
   "metadata": {},
   "outputs": [],
   "source": [
    "train = pd.read_csv('../data/regression/Real estate train.csv')\n",
    "train.drop('Unnamed: 0', inplace=True, axis=1)"
   ]
  },
  {
   "cell_type": "code",
   "execution_count": 3,
   "metadata": {},
   "outputs": [],
   "source": [
    "class LinearReg:\n",
    "    def fit(self, X, y):\n",
    "        X = np.insert(X, 0, np.ones(X.shape[0]), axis=1)\n",
    "        prod_1 = np.matmul(X.transpose(), X)\n",
    "        prod_2 = np.matmul(np.linalg.inv(prod_1), X.transpose())\n",
    "        self.beta = np.matmul(prod_2, y)\n",
    "    \n",
    "    def predict(self, X_test):\n",
    "        tmp = np.insert(X_test, 0, np.ones(X_test.shape[0]), axis=1)\n",
    "        return np.matmul(tmp, self.beta)"
   ]
  },
  {
   "cell_type": "code",
   "execution_count": 4,
   "metadata": {},
   "outputs": [
    {
     "name": "stdout",
     "output_type": "stream",
     "text": [
      "Sklearn's Linear Regression R2:  0.6974280661583803\n",
      "---------------------\n",
      "Manual Implementation of Linear Regression R2:  0.6974280661583803\n"
     ]
    }
   ],
   "source": [
    "X_train = train.drop('target', axis=1)\n",
    "y_train = train['target']\n",
    "\n",
    "test = pd.read_csv('../data/regression/Real estate test.csv')\n",
    "test.drop('Unnamed: 0', inplace=True, axis=1)\n",
    "X_test = test.drop('target', axis=1)\n",
    "y_test = test['target']\n",
    "\n",
    "sk_linreg = LinearRegression()\n",
    "sk_linreg.fit(X_train, y_train)\n",
    "y_pred = sk_linreg.predict(X_test)\n",
    "\n",
    "linreg = LinearReg()\n",
    "linreg.fit(X_train.values, y_train.values)\n",
    "y_pred_manual = linreg.predict(X_test.values)\n",
    "\n",
    "print(\"Sklearn's Linear Regression R2: \", r2_score(y_test, y_pred))\n",
    "print(\"---------------------\")\n",
    "print(\"Manual Implementation of Linear Regression R2: \", r2_score(y_test, y_pred_manual))"
   ]
  }
 ],
 "metadata": {
  "kernelspec": {
   "display_name": "Python 3.9.7 64-bit",
   "language": "python",
   "name": "python3"
  },
  "language_info": {
   "codemirror_mode": {
    "name": "ipython",
    "version": 3
   },
   "file_extension": ".py",
   "mimetype": "text/x-python",
   "name": "python",
   "nbconvert_exporter": "python",
   "pygments_lexer": "ipython3",
   "version": "3.9.7"
  },
  "orig_nbformat": 4,
  "vscode": {
   "interpreter": {
    "hash": "aee8b7b246df8f9039afb4144a1f6fd8d2ca17a180786b69acc140d282b71a49"
   }
  }
 },
 "nbformat": 4,
 "nbformat_minor": 2
}
