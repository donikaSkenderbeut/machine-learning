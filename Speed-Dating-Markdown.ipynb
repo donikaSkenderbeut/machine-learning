{
 "cells": [
  {
   "cell_type": "markdown",
   "id": "195eff4a",
   "metadata": {},
   "source": [
    "# Speed Dating\n",
    "\n",
    "The dataset consists of 8378 instances containing 121 features. In the approach we had to deal with 18372 missing values.\n",
    "\n",
    "The data is from speed dating events in 2002-2004. During the date the participant awnsers questions about hemselves and rate their partner. They were also asked to rate their date on six attributes: Attractiveness, Sincerity, Intelligence, Fun, Ambition, and Shared Interests. The label is called Match and it is binary.\n",
    "\n",
    "During the preprocessing process we worked with pandas and numpy as Python libraries.\n",
    "\n",
    "## Missing Values\n",
    "\n",
    "in order to deal with the missing values, we had to replace the Strings \"?\" with np.nan, so we were able to count the missing values per column.\n",
    "\n",
    "### Importance of Race\n",
    "\n",
    "Participants were asked how important they rate the fact, that their partner has the same race as they have.\n",
    "\n",
    "To fill in the missing values we decided to fill by the mode of the race which has these missing values. We assume that all rows have the race specified so that we can fill the Importance of Race. There were some rows which had no specified race and no importance of race so we dropped these.\n",
    "\n",
    "From further observation, only Europeans/Caucasian-Americans had empty values in this dataset so we can just fill them with the mode of importance of race for this specific race.\n",
    "\n",
    "### Age\n",
    "For age values we filled the NaN values with the median of all collected ages through the dataset.\n",
    "\n",
    "### Met\n",
    "met column tells if the people from speed dating has met before. Since it is not very common to meet people at speed dating more than one time we assume that cells with NaN can be filled with 0 that stands for \"have not met before\".\n",
    "\n",
    "### Drop Rows\n",
    "After the assumtions we had a few NaN columns left and after a short check we found out that rows containing that NaN value in one column, also contained NaN values in other column. Participants producing those values skiped a whole question section, so we decided to drop the rest of the rows containing the NaN values, bacause we had not enough data do fill a whole question section by simulated values.\n",
    "\n",
    "\n",
    "## Value Casting\n",
    "Numeric values in the data set are only rounded numbers, so we hat to cast float values into int values. Columns in the data set containing the Substring \"pref\" contain values about how the important the partner rated the specific category. Unfortunately we had casting errors and some rows contained decimal places. Thus we rounded those numbers with *.round()* and casted the float into int.\n",
    "\n",
    "## Duplicate in Field\n",
    "\n",
    "For the coulumn Field we observed a lot of duplicates that were a result of lower/upper-case differences, as well as specific fields which could be generalized in one. For Example we took the all the fields that had \"MBA-Busniess\" , \"Business and Economics\" or anything related to business and put under the same field name. From such transformations we reduced the number of fields from 219 to 86\n",
    "\n",
    "## Intervall Description\n",
    "The dataset contains fixed intervalls to recognize if a person rated something low, medium or high. The categorical values are ordinary and represent the given Interval in a String, for example [0-1] for low [2-5] for medium and [6-10] for high. Instead of using the specific Interval values we decided to replace the Strings by the according categorical values (not important, important, very impirtant).\n",
    "\n",
    "## Conclusion\n",
    "\n",
    "After preproccessing and cleaning we ended up with 5673 instances and 117 features."
   ]
  },
  {
   "cell_type": "code",
   "execution_count": null,
   "id": "bcf5122f",
   "metadata": {},
   "outputs": [],
   "source": []
  }
 ],
 "metadata": {
  "kernelspec": {
   "display_name": "Python 3.9.7 64-bit",
   "language": "python",
   "name": "python3"
  },
  "language_info": {
   "codemirror_mode": {
    "name": "ipython",
    "version": 3
   },
   "file_extension": ".py",
   "mimetype": "text/x-python",
   "name": "python",
   "nbconvert_exporter": "python",
   "pygments_lexer": "ipython3",
   "version": "3.9.7"
  },
  "vscode": {
   "interpreter": {
    "hash": "aee8b7b246df8f9039afb4144a1f6fd8d2ca17a180786b69acc140d282b71a49"
   }
  }
 },
 "nbformat": 4,
 "nbformat_minor": 5
}
