{
 "cells": [
  {
   "cell_type": "markdown",
   "id": "a90119cf",
   "metadata": {},
   "source": [
    "## Speed Dating Data Set"
   ]
  },
  {
   "cell_type": "code",
   "execution_count": 1,
   "id": "494048e2",
   "metadata": {},
   "outputs": [],
   "source": [
    "# do the neccessary imports\n",
    "import numpy as np\n",
    "import pandas as pd\n",
    "from scipy.io.arff import loadarff"
   ]
  },
  {
   "cell_type": "code",
   "execution_count": 2,
   "id": "4145b51a",
   "metadata": {},
   "outputs": [
    {
     "name": "stdout",
     "output_type": "stream",
     "text": [
      "id                     int64\n",
      "has_null               int64\n",
      "wave                   int64\n",
      "gender                object\n",
      "age                   object\n",
      "                       ...  \n",
      "d_guess_prob_liked    object\n",
      "met                   object\n",
      "decision               int64\n",
      "decision_o             int64\n",
      "match                  int64\n",
      "Length: 124, dtype: object\n"
     ]
    },
    {
     "name": "stderr",
     "output_type": "stream",
     "text": [
      "/Library/Frameworks/Python.framework/Versions/3.9/lib/python3.9/site-packages/IPython/core/interactiveshell.py:3444: DtypeWarning: Columns (4,11,12,16,17,18,19,20,40,41,42,43,44,45,52,53,54,55,56,74,75,76,77,78,79,80,81,82,83,84,85,86,87,88,89,90,108,110) have mixed types.Specify dtype option on import or set low_memory=False.\n",
      "  exec(code_obj, self.user_global_ns, self.user_ns)\n"
     ]
    },
    {
     "data": {
      "text/plain": [
       "(8378, 124)"
      ]
     },
     "execution_count": 2,
     "metadata": {},
     "output_type": "execute_result"
    }
   ],
   "source": [
    "#transforming arff file in csv\n",
    "df = pd.read_csv('data/speed-dating/speeddating.csv')\n",
    "print(df.dtypes)\n",
    "df.shape"
   ]
  },
  {
   "cell_type": "code",
   "execution_count": 3,
   "id": "7d1115a0",
   "metadata": {},
   "outputs": [
    {
     "data": {
      "text/plain": [
       "(7330, 124)"
      ]
     },
     "execution_count": 3,
     "metadata": {},
     "output_type": "execute_result"
    }
   ],
   "source": [
    "df[df.isin([\"?\"]).any(axis=1)].shape"
   ]
  },
  {
   "cell_type": "markdown",
   "id": "acbf3eee",
   "metadata": {},
   "source": [
    "## About Ratings\n",
    "\n",
    "When a column is giving a rating, for example any column that has ```importance``` or ```pref_o_``` also include scales, which are weird and we need to figure out how to normalize everything. \n",
    "\n",
    "# Missing values\n",
    "\n",
    "Some rows in these rating columns also have missing values which can't simply be thrown out. Instead we have to look at the context, for example for the missing values in ```importance_same_race``` we can fill them in by taking the median/mean of the ratings that people of the same race have given."
   ]
  },
  {
   "cell_type": "code",
   "execution_count": 4,
   "id": "2a6eda4e",
   "metadata": {},
   "outputs": [],
   "source": [
    "df.replace('?', np.nan, inplace=True)"
   ]
  },
  {
   "cell_type": "code",
   "execution_count": 5,
   "id": "842c10ac",
   "metadata": {},
   "outputs": [
    {
     "data": {
      "text/html": [
       "<div>\n",
       "<style scoped>\n",
       "    .dataframe tbody tr th:only-of-type {\n",
       "        vertical-align: middle;\n",
       "    }\n",
       "\n",
       "    .dataframe tbody tr th {\n",
       "        vertical-align: top;\n",
       "    }\n",
       "\n",
       "    .dataframe thead th {\n",
       "        text-align: right;\n",
       "    }\n",
       "</style>\n",
       "<table border=\"1\" class=\"dataframe\">\n",
       "  <thead>\n",
       "    <tr style=\"text-align: right;\">\n",
       "      <th></th>\n",
       "      <th>race</th>\n",
       "      <th>importance_same_race</th>\n",
       "    </tr>\n",
       "  </thead>\n",
       "  <tbody>\n",
       "    <tr>\n",
       "      <th>828</th>\n",
       "      <td>NaN</td>\n",
       "      <td>NaN</td>\n",
       "    </tr>\n",
       "    <tr>\n",
       "      <th>829</th>\n",
       "      <td>NaN</td>\n",
       "      <td>NaN</td>\n",
       "    </tr>\n",
       "    <tr>\n",
       "      <th>830</th>\n",
       "      <td>NaN</td>\n",
       "      <td>NaN</td>\n",
       "    </tr>\n",
       "    <tr>\n",
       "      <th>831</th>\n",
       "      <td>NaN</td>\n",
       "      <td>NaN</td>\n",
       "    </tr>\n",
       "    <tr>\n",
       "      <th>832</th>\n",
       "      <td>NaN</td>\n",
       "      <td>NaN</td>\n",
       "    </tr>\n",
       "    <tr>\n",
       "      <th>...</th>\n",
       "      <td>...</td>\n",
       "      <td>...</td>\n",
       "    </tr>\n",
       "    <tr>\n",
       "      <th>5127</th>\n",
       "      <td>NaN</td>\n",
       "      <td>NaN</td>\n",
       "    </tr>\n",
       "    <tr>\n",
       "      <th>5128</th>\n",
       "      <td>NaN</td>\n",
       "      <td>NaN</td>\n",
       "    </tr>\n",
       "    <tr>\n",
       "      <th>5129</th>\n",
       "      <td>NaN</td>\n",
       "      <td>NaN</td>\n",
       "    </tr>\n",
       "    <tr>\n",
       "      <th>5130</th>\n",
       "      <td>NaN</td>\n",
       "      <td>NaN</td>\n",
       "    </tr>\n",
       "    <tr>\n",
       "      <th>5131</th>\n",
       "      <td>NaN</td>\n",
       "      <td>NaN</td>\n",
       "    </tr>\n",
       "  </tbody>\n",
       "</table>\n",
       "<p>63 rows × 2 columns</p>\n",
       "</div>"
      ],
      "text/plain": [
       "     race importance_same_race\n",
       "828   NaN                  NaN\n",
       "829   NaN                  NaN\n",
       "830   NaN                  NaN\n",
       "831   NaN                  NaN\n",
       "832   NaN                  NaN\n",
       "...   ...                  ...\n",
       "5127  NaN                  NaN\n",
       "5128  NaN                  NaN\n",
       "5129  NaN                  NaN\n",
       "5130  NaN                  NaN\n",
       "5131  NaN                  NaN\n",
       "\n",
       "[63 rows x 2 columns]"
      ]
     },
     "execution_count": 5,
     "metadata": {},
     "output_type": "execute_result"
    }
   ],
   "source": [
    "df[['race','importance_same_race']][df['race'].isna() == True]\n",
    "# 63 rows with no race and no importance of race so we just drop these\n"
   ]
  },
  {
   "cell_type": "code",
   "execution_count": 6,
   "id": "6dab0c77",
   "metadata": {},
   "outputs": [],
   "source": [
    "df = df[df['race'].notna()]"
   ]
  },
  {
   "cell_type": "markdown",
   "id": "06d79f91",
   "metadata": {},
   "source": [
    "We try to divide df temporarily in to races to omit the nan value of importance of race by the mode. For the group other, we do the same\n",
    "\n",
    "Update: As it looks like, only Europeans/Caucasian-Americans have empty values in this dataset so we can just fill them with the mode of the whole dataset"
   ]
  },
  {
   "cell_type": "code",
   "execution_count": 7,
   "id": "bf1b6a88",
   "metadata": {},
   "outputs": [
    {
     "data": {
      "text/plain": [
       "312    NaN\n",
       "313    NaN\n",
       "314    NaN\n",
       "315    NaN\n",
       "316    NaN\n",
       "317    NaN\n",
       "318    NaN\n",
       "319    NaN\n",
       "320    NaN\n",
       "321    NaN\n",
       "322    NaN\n",
       "323    NaN\n",
       "324    NaN\n",
       "325    NaN\n",
       "326    NaN\n",
       "327    NaN\n",
       "Name: importance_same_race, dtype: object"
      ]
     },
     "execution_count": 7,
     "metadata": {},
     "output_type": "execute_result"
    }
   ],
   "source": [
    "df['importance_same_race'][df['importance_same_race'].isna() == True]"
   ]
  },
  {
   "cell_type": "code",
   "execution_count": 8,
   "id": "e50b3656",
   "metadata": {},
   "outputs": [],
   "source": [
    "#First convert column to int instead of string\n",
    "df['importance_same_race'] = df['importance_same_race'].fillna(100).astype(int)"
   ]
  },
  {
   "cell_type": "code",
   "execution_count": 9,
   "id": "0ccdedc3",
   "metadata": {},
   "outputs": [],
   "source": [
    "#We replaced nan with value 100 for conversion to int then replaced 100 with the mode\n",
    "df['importance_same_race'].replace(100, df['importance_same_race'][df['race'] == 'European/Caucasian-American'].mode()[0], inplace=True)"
   ]
  },
  {
   "cell_type": "code",
   "execution_count": 10,
   "id": "9c6e4174",
   "metadata": {},
   "outputs": [],
   "source": [
    "# We do the same thing for religion\n",
    "# Note there are missing values for these columns only for the europeans\n",
    "df['importance_same_religion'] = df['importance_same_religion'].fillna(100).astype(int)\n",
    "df['importance_same_religion'].replace(100, df['importance_same_religion'][df['race'] == 'European/Caucasian-American'].mode()[0], inplace=True)"
   ]
  },
  {
   "cell_type": "markdown",
   "id": "bcb5e51a",
   "metadata": {},
   "source": [
    "### Dealing with NaN for ```preference_of...```\n",
    "\n",
    "For this case the number of NaN is also not that big so we could actually drop them since the dataset is relatively big. We are losing at most 192 values"
   ]
  },
  {
   "cell_type": "code",
   "execution_count": 11,
   "id": "eb22d1f8",
   "metadata": {},
   "outputs": [],
   "source": [
    "df.dropna(subset=['pref_o_attractive', 'pref_o_sincere', 'pref_o_intelligence', 'pref_o_funny', 'pref_o_ambitious', 'pref_o_shared_interests'], inplace=True)"
   ]
  },
  {
   "cell_type": "code",
   "execution_count": 12,
   "id": "1f9039f8",
   "metadata": {},
   "outputs": [
    {
     "data": {
      "text/plain": [
       "(8186, 124)"
      ]
     },
     "execution_count": 12,
     "metadata": {},
     "output_type": "execute_result"
    }
   ],
   "source": [
    "df.shape"
   ]
  },
  {
   "cell_type": "markdown",
   "id": "e105db05",
   "metadata": {},
   "source": [
    "## Casting strings to float and rounding float values to int for ```preferece_o```"
   ]
  },
  {
   "cell_type": "code",
   "execution_count": 13,
   "id": "a7f77d07",
   "metadata": {},
   "outputs": [],
   "source": [
    "df[['pref_o_attractive', 'pref_o_sincere', 'pref_o_intelligence', 'pref_o_funny', 'pref_o_ambitious', 'pref_o_shared_interests']] = df[['pref_o_attractive', 'pref_o_sincere', 'pref_o_intelligence', 'pref_o_funny', 'pref_o_ambitious', 'pref_o_shared_interests']].astype(float)"
   ]
  },
  {
   "cell_type": "code",
   "execution_count": 14,
   "id": "7e715f08",
   "metadata": {},
   "outputs": [],
   "source": [
    "df[['pref_o_attractive', 'pref_o_sincere', 'pref_o_intelligence', 'pref_o_funny', 'pref_o_ambitious', 'pref_o_shared_interests']] = df[['pref_o_attractive', 'pref_o_sincere', 'pref_o_intelligence', 'pref_o_funny', 'pref_o_ambitious', 'pref_o_shared_interests']].round()\n",
    "df[['pref_o_attractive', 'pref_o_sincere', 'pref_o_intelligence', 'pref_o_funny', 'pref_o_ambitious', 'pref_o_shared_interests']] = df[['pref_o_attractive', 'pref_o_sincere', 'pref_o_intelligence', 'pref_o_funny', 'pref_o_ambitious', 'pref_o_shared_interests']].astype(int)"
   ]
  }
 ],
 "metadata": {
  "kernelspec": {
   "display_name": "Python 3.9.7 64-bit",
   "language": "python",
   "name": "python3"
  },
  "language_info": {
   "codemirror_mode": {
    "name": "ipython",
    "version": 3
   },
   "file_extension": ".py",
   "mimetype": "text/x-python",
   "name": "python",
   "nbconvert_exporter": "python",
   "pygments_lexer": "ipython3",
   "version": "3.9.7"
  },
  "vscode": {
   "interpreter": {
    "hash": "aee8b7b246df8f9039afb4144a1f6fd8d2ca17a180786b69acc140d282b71a49"
   }
  }
 },
 "nbformat": 4,
 "nbformat_minor": 5
}
