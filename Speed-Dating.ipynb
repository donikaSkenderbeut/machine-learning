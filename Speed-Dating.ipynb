{
 "cells": [
  {
   "cell_type": "markdown",
   "id": "a90119cf",
   "metadata": {},
   "source": [
    "## Speed Dating Data Set"
   ]
  },
  {
   "cell_type": "code",
   "execution_count": 1,
   "id": "494048e2",
   "metadata": {},
   "outputs": [],
   "source": [
    "# do the neccessary imports\n",
    "import numpy as np\n",
    "import pandas as pd\n",
    "from scipy.io.arff import loadarff"
   ]
  },
  {
   "cell_type": "code",
   "execution_count": 2,
   "id": "4145b51a",
   "metadata": {},
   "outputs": [
    {
     "name": "stdout",
     "output_type": "stream",
     "text": [
      "id                     int64\n",
      "has_null               int64\n",
      "wave                   int64\n",
      "gender                object\n",
      "age                   object\n",
      "                       ...  \n",
      "d_guess_prob_liked    object\n",
      "met                   object\n",
      "decision               int64\n",
      "decision_o             int64\n",
      "match                  int64\n",
      "Length: 124, dtype: object\n"
     ]
    },
    {
     "name": "stderr",
     "output_type": "stream",
     "text": [
      "/var/folders/1_/83qhk9ps6fd0yym23nn9nfz00000gn/T/ipykernel_12930/617918928.py:2: DtypeWarning: Columns (4,11,12,16,17,18,19,20,40,41,42,43,44,45,52,53,54,55,56,74,75,76,77,78,79,80,81,82,83,84,85,86,87,88,89,90,108,110) have mixed types. Specify dtype option on import or set low_memory=False.\n",
      "  df = pd.read_csv('data/speed-dating/speeddating.csv')\n"
     ]
    },
    {
     "data": {
      "text/plain": [
       "(8378, 124)"
      ]
     },
     "execution_count": 2,
     "metadata": {},
     "output_type": "execute_result"
    }
   ],
   "source": [
    "#transforming arff file in csv\n",
    "df = pd.read_csv('data/speed-dating/speeddating.csv')\n",
    "print(df.dtypes)\n",
    "df.shape"
   ]
  },
  {
   "cell_type": "code",
   "execution_count": 3,
   "id": "7d1115a0",
   "metadata": {},
   "outputs": [
    {
     "data": {
      "text/plain": [
       "(7330, 124)"
      ]
     },
     "execution_count": 3,
     "metadata": {},
     "output_type": "execute_result"
    }
   ],
   "source": [
    "df[df.isin([\"?\"]).any(axis=1)].shape"
   ]
  },
  {
   "cell_type": "markdown",
   "id": "acbf3eee",
   "metadata": {},
   "source": [
    "## About Ratings\n",
    "\n",
    "When a column is giving a rating, for example any column that has ```importance``` or ```pref_o_``` also include scales, which are weird and we need to figure out how to normalize everything. \n",
    "\n",
    "# Missing values\n",
    "\n",
    "Some rows in these rating columns also have missing values which can't simply be thrown out. Instead we have to look at the context, for example for the missing values in ```importance_same_race``` we can fill them in by taking the median/mean of the ratings that people of the same race have given."
   ]
  },
  {
   "cell_type": "code",
   "execution_count": 4,
   "id": "2a6eda4e",
   "metadata": {},
   "outputs": [],
   "source": [
    "df.replace('?', np.nan, inplace=True)"
   ]
  },
  {
   "cell_type": "code",
   "execution_count": 5,
   "id": "842c10ac",
   "metadata": {},
   "outputs": [
    {
     "data": {
      "text/html": [
       "<div>\n",
       "<style scoped>\n",
       "    .dataframe tbody tr th:only-of-type {\n",
       "        vertical-align: middle;\n",
       "    }\n",
       "\n",
       "    .dataframe tbody tr th {\n",
       "        vertical-align: top;\n",
       "    }\n",
       "\n",
       "    .dataframe thead th {\n",
       "        text-align: right;\n",
       "    }\n",
       "</style>\n",
       "<table border=\"1\" class=\"dataframe\">\n",
       "  <thead>\n",
       "    <tr style=\"text-align: right;\">\n",
       "      <th></th>\n",
       "      <th>race</th>\n",
       "      <th>importance_same_race</th>\n",
       "    </tr>\n",
       "  </thead>\n",
       "  <tbody>\n",
       "    <tr>\n",
       "      <th>828</th>\n",
       "      <td>NaN</td>\n",
       "      <td>NaN</td>\n",
       "    </tr>\n",
       "    <tr>\n",
       "      <th>829</th>\n",
       "      <td>NaN</td>\n",
       "      <td>NaN</td>\n",
       "    </tr>\n",
       "    <tr>\n",
       "      <th>830</th>\n",
       "      <td>NaN</td>\n",
       "      <td>NaN</td>\n",
       "    </tr>\n",
       "    <tr>\n",
       "      <th>831</th>\n",
       "      <td>NaN</td>\n",
       "      <td>NaN</td>\n",
       "    </tr>\n",
       "    <tr>\n",
       "      <th>832</th>\n",
       "      <td>NaN</td>\n",
       "      <td>NaN</td>\n",
       "    </tr>\n",
       "    <tr>\n",
       "      <th>...</th>\n",
       "      <td>...</td>\n",
       "      <td>...</td>\n",
       "    </tr>\n",
       "    <tr>\n",
       "      <th>5127</th>\n",
       "      <td>NaN</td>\n",
       "      <td>NaN</td>\n",
       "    </tr>\n",
       "    <tr>\n",
       "      <th>5128</th>\n",
       "      <td>NaN</td>\n",
       "      <td>NaN</td>\n",
       "    </tr>\n",
       "    <tr>\n",
       "      <th>5129</th>\n",
       "      <td>NaN</td>\n",
       "      <td>NaN</td>\n",
       "    </tr>\n",
       "    <tr>\n",
       "      <th>5130</th>\n",
       "      <td>NaN</td>\n",
       "      <td>NaN</td>\n",
       "    </tr>\n",
       "    <tr>\n",
       "      <th>5131</th>\n",
       "      <td>NaN</td>\n",
       "      <td>NaN</td>\n",
       "    </tr>\n",
       "  </tbody>\n",
       "</table>\n",
       "<p>63 rows × 2 columns</p>\n",
       "</div>"
      ],
      "text/plain": [
       "     race importance_same_race\n",
       "828   NaN                  NaN\n",
       "829   NaN                  NaN\n",
       "830   NaN                  NaN\n",
       "831   NaN                  NaN\n",
       "832   NaN                  NaN\n",
       "...   ...                  ...\n",
       "5127  NaN                  NaN\n",
       "5128  NaN                  NaN\n",
       "5129  NaN                  NaN\n",
       "5130  NaN                  NaN\n",
       "5131  NaN                  NaN\n",
       "\n",
       "[63 rows x 2 columns]"
      ]
     },
     "execution_count": 5,
     "metadata": {},
     "output_type": "execute_result"
    }
   ],
   "source": [
    "df[['race','importance_same_race']][df['race'].isna() == True]\n",
    "# 63 rows with no race and no importance of race so we just drop these\n"
   ]
  },
  {
   "cell_type": "code",
   "execution_count": 6,
   "id": "6dab0c77",
   "metadata": {},
   "outputs": [],
   "source": [
    "df = df[df['race'].notna()]"
   ]
  },
  {
   "cell_type": "markdown",
   "id": "06d79f91",
   "metadata": {},
   "source": [
    "We try to divide df temporarily in to races to omit the nan value of importance of race by the mode. For the group other, we do the same\n",
    "\n",
    "Update: As it looks like, only Europeans/Caucasian-Americans have empty values in this dataset so we can just fill them with the mode of the whole dataset"
   ]
  },
  {
   "cell_type": "code",
   "execution_count": 7,
   "id": "bf1b6a88",
   "metadata": {},
   "outputs": [
    {
     "data": {
      "text/plain": [
       "312    NaN\n",
       "313    NaN\n",
       "314    NaN\n",
       "315    NaN\n",
       "316    NaN\n",
       "317    NaN\n",
       "318    NaN\n",
       "319    NaN\n",
       "320    NaN\n",
       "321    NaN\n",
       "322    NaN\n",
       "323    NaN\n",
       "324    NaN\n",
       "325    NaN\n",
       "326    NaN\n",
       "327    NaN\n",
       "Name: importance_same_race, dtype: object"
      ]
     },
     "execution_count": 7,
     "metadata": {},
     "output_type": "execute_result"
    }
   ],
   "source": [
    "df['importance_same_race'][df['importance_same_race'].isna() == True]"
   ]
  },
  {
   "cell_type": "code",
   "execution_count": 8,
   "id": "e50b3656",
   "metadata": {},
   "outputs": [
    {
     "name": "stderr",
     "output_type": "stream",
     "text": [
      "/var/folders/1_/83qhk9ps6fd0yym23nn9nfz00000gn/T/ipykernel_12930/3867047710.py:2: SettingWithCopyWarning: \n",
      "A value is trying to be set on a copy of a slice from a DataFrame.\n",
      "Try using .loc[row_indexer,col_indexer] = value instead\n",
      "\n",
      "See the caveats in the documentation: https://pandas.pydata.org/pandas-docs/stable/user_guide/indexing.html#returning-a-view-versus-a-copy\n",
      "  df['importance_same_race'] = df['importance_same_race'].fillna(100).astype(int)\n"
     ]
    }
   ],
   "source": [
    "#First convert column to int instead of string\n",
    "df['importance_same_race'] = df['importance_same_race'].fillna(100).astype(int)"
   ]
  },
  {
   "cell_type": "code",
   "execution_count": 9,
   "id": "0ccdedc3",
   "metadata": {},
   "outputs": [
    {
     "name": "stderr",
     "output_type": "stream",
     "text": [
      "/var/folders/1_/83qhk9ps6fd0yym23nn9nfz00000gn/T/ipykernel_12930/1348616370.py:2: SettingWithCopyWarning: \n",
      "A value is trying to be set on a copy of a slice from a DataFrame\n",
      "\n",
      "See the caveats in the documentation: https://pandas.pydata.org/pandas-docs/stable/user_guide/indexing.html#returning-a-view-versus-a-copy\n",
      "  df['importance_same_race'].replace(100, df['importance_same_race'][df['race'] == 'European/Caucasian-American'].mode()[0], inplace=True)\n"
     ]
    }
   ],
   "source": [
    "#We replaced nan with value 100 for conversion to int then replaced 100 with the mode\n",
    "df['importance_same_race'].replace(100, df['importance_same_race'][df['race'] == 'European/Caucasian-American'].mode()[0], inplace=True)"
   ]
  },
  {
   "cell_type": "code",
   "execution_count": 10,
   "id": "9c6e4174",
   "metadata": {},
   "outputs": [
    {
     "name": "stderr",
     "output_type": "stream",
     "text": [
      "/var/folders/1_/83qhk9ps6fd0yym23nn9nfz00000gn/T/ipykernel_12930/4232095894.py:3: SettingWithCopyWarning: \n",
      "A value is trying to be set on a copy of a slice from a DataFrame.\n",
      "Try using .loc[row_indexer,col_indexer] = value instead\n",
      "\n",
      "See the caveats in the documentation: https://pandas.pydata.org/pandas-docs/stable/user_guide/indexing.html#returning-a-view-versus-a-copy\n",
      "  df['importance_same_religion'] = df['importance_same_religion'].fillna(100).astype(int)\n",
      "/var/folders/1_/83qhk9ps6fd0yym23nn9nfz00000gn/T/ipykernel_12930/4232095894.py:4: SettingWithCopyWarning: \n",
      "A value is trying to be set on a copy of a slice from a DataFrame\n",
      "\n",
      "See the caveats in the documentation: https://pandas.pydata.org/pandas-docs/stable/user_guide/indexing.html#returning-a-view-versus-a-copy\n",
      "  df['importance_same_religion'].replace(100, df['importance_same_religion'][df['race'] == 'European/Caucasian-American'].mode()[0], inplace=True)\n"
     ]
    }
   ],
   "source": [
    "# We do the same thing for religion\n",
    "# Note there are missing values for these columns only for the europeans\n",
    "df['importance_same_religion'] = df['importance_same_religion'].fillna(100).astype(int)\n",
    "df['importance_same_religion'].replace(100, df['importance_same_religion'][df['race'] == 'European/Caucasian-American'].mode()[0], inplace=True)"
   ]
  },
  {
   "cell_type": "markdown",
   "id": "bcb5e51a",
   "metadata": {},
   "source": [
    "### Dealing with NaN for ```preference_of...```\n",
    "\n",
    "For this case the number of NaN is also not that big so we could actually drop them since the dataset is relatively big. We are losing at most 192 values"
   ]
  },
  {
   "cell_type": "code",
   "execution_count": 11,
   "id": "eb22d1f8",
   "metadata": {},
   "outputs": [
    {
     "name": "stderr",
     "output_type": "stream",
     "text": [
      "/var/folders/1_/83qhk9ps6fd0yym23nn9nfz00000gn/T/ipykernel_12930/2704957680.py:1: SettingWithCopyWarning: \n",
      "A value is trying to be set on a copy of a slice from a DataFrame\n",
      "\n",
      "See the caveats in the documentation: https://pandas.pydata.org/pandas-docs/stable/user_guide/indexing.html#returning-a-view-versus-a-copy\n",
      "  df.dropna(subset=['pref_o_attractive', 'pref_o_sincere', 'pref_o_intelligence', 'pref_o_funny', 'pref_o_ambitious', 'pref_o_shared_interests'], inplace=True)\n"
     ]
    }
   ],
   "source": [
    "df.dropna(subset=['pref_o_attractive', 'pref_o_sincere', 'pref_o_intelligence', 'pref_o_funny', 'pref_o_ambitious', 'pref_o_shared_interests'], inplace=True)"
   ]
  },
  {
   "cell_type": "code",
   "execution_count": 12,
   "id": "1f9039f8",
   "metadata": {},
   "outputs": [
    {
     "data": {
      "text/plain": [
       "(8186, 124)"
      ]
     },
     "execution_count": 12,
     "metadata": {},
     "output_type": "execute_result"
    }
   ],
   "source": [
    "df.shape"
   ]
  },
  {
   "cell_type": "markdown",
   "id": "e105db05",
   "metadata": {},
   "source": [
    "## Casting strings to float and rounding float values to int for ```preferece_o```"
   ]
  },
  {
   "cell_type": "code",
   "execution_count": 13,
   "id": "a7f77d07",
   "metadata": {},
   "outputs": [
    {
     "name": "stderr",
     "output_type": "stream",
     "text": [
      "/var/folders/1_/83qhk9ps6fd0yym23nn9nfz00000gn/T/ipykernel_12930/1062846207.py:1: SettingWithCopyWarning: \n",
      "A value is trying to be set on a copy of a slice from a DataFrame.\n",
      "Try using .loc[row_indexer,col_indexer] = value instead\n",
      "\n",
      "See the caveats in the documentation: https://pandas.pydata.org/pandas-docs/stable/user_guide/indexing.html#returning-a-view-versus-a-copy\n",
      "  df[['pref_o_attractive', 'pref_o_sincere', 'pref_o_intelligence', 'pref_o_funny', 'pref_o_ambitious', 'pref_o_shared_interests']] = df[['pref_o_attractive', 'pref_o_sincere', 'pref_o_intelligence', 'pref_o_funny', 'pref_o_ambitious', 'pref_o_shared_interests']].astype(float)\n"
     ]
    }
   ],
   "source": [
    "df[['pref_o_attractive', 'pref_o_sincere', 'pref_o_intelligence', 'pref_o_funny', 'pref_o_ambitious', 'pref_o_shared_interests']] = df[['pref_o_attractive', 'pref_o_sincere', 'pref_o_intelligence', 'pref_o_funny', 'pref_o_ambitious', 'pref_o_shared_interests']].astype(float)"
   ]
  },
  {
   "cell_type": "code",
   "execution_count": 14,
   "id": "7e715f08",
   "metadata": {},
   "outputs": [
    {
     "name": "stderr",
     "output_type": "stream",
     "text": [
      "/var/folders/1_/83qhk9ps6fd0yym23nn9nfz00000gn/T/ipykernel_12930/3368640539.py:1: SettingWithCopyWarning: \n",
      "A value is trying to be set on a copy of a slice from a DataFrame.\n",
      "Try using .loc[row_indexer,col_indexer] = value instead\n",
      "\n",
      "See the caveats in the documentation: https://pandas.pydata.org/pandas-docs/stable/user_guide/indexing.html#returning-a-view-versus-a-copy\n",
      "  df[['pref_o_attractive', 'pref_o_sincere', 'pref_o_intelligence', 'pref_o_funny', 'pref_o_ambitious', 'pref_o_shared_interests']] = df[['pref_o_attractive', 'pref_o_sincere', 'pref_o_intelligence', 'pref_o_funny', 'pref_o_ambitious', 'pref_o_shared_interests']].round()\n",
      "/var/folders/1_/83qhk9ps6fd0yym23nn9nfz00000gn/T/ipykernel_12930/3368640539.py:2: SettingWithCopyWarning: \n",
      "A value is trying to be set on a copy of a slice from a DataFrame.\n",
      "Try using .loc[row_indexer,col_indexer] = value instead\n",
      "\n",
      "See the caveats in the documentation: https://pandas.pydata.org/pandas-docs/stable/user_guide/indexing.html#returning-a-view-versus-a-copy\n",
      "  df[['pref_o_attractive', 'pref_o_sincere', 'pref_o_intelligence', 'pref_o_funny', 'pref_o_ambitious', 'pref_o_shared_interests']] = df[['pref_o_attractive', 'pref_o_sincere', 'pref_o_intelligence', 'pref_o_funny', 'pref_o_ambitious', 'pref_o_shared_interests']].astype(int)\n"
     ]
    }
   ],
   "source": [
    "df[['pref_o_attractive', 'pref_o_sincere', 'pref_o_intelligence', 'pref_o_funny', 'pref_o_ambitious', 'pref_o_shared_interests']] = df[['pref_o_attractive', 'pref_o_sincere', 'pref_o_intelligence', 'pref_o_funny', 'pref_o_ambitious', 'pref_o_shared_interests']].round()\n",
    "df[['pref_o_attractive', 'pref_o_sincere', 'pref_o_intelligence', 'pref_o_funny', 'pref_o_ambitious', 'pref_o_shared_interests']] = df[['pref_o_attractive', 'pref_o_sincere', 'pref_o_intelligence', 'pref_o_funny', 'pref_o_ambitious', 'pref_o_shared_interests']].astype(int)"
   ]
  },
  {
   "cell_type": "markdown",
   "id": "df1b0534",
   "metadata": {},
   "source": [
    "### Handling age"
   ]
  },
  {
   "cell_type": "code",
   "execution_count": 15,
   "id": "8e79ada4",
   "metadata": {},
   "outputs": [
    {
     "name": "stderr",
     "output_type": "stream",
     "text": [
      "/var/folders/1_/83qhk9ps6fd0yym23nn9nfz00000gn/T/ipykernel_12930/2504738384.py:1: SettingWithCopyWarning: \n",
      "A value is trying to be set on a copy of a slice from a DataFrame\n",
      "\n",
      "See the caveats in the documentation: https://pandas.pydata.org/pandas-docs/stable/user_guide/indexing.html#returning-a-view-versus-a-copy\n",
      "  df['age'].fillna(1000, inplace=True)\n",
      "/var/folders/1_/83qhk9ps6fd0yym23nn9nfz00000gn/T/ipykernel_12930/2504738384.py:2: SettingWithCopyWarning: \n",
      "A value is trying to be set on a copy of a slice from a DataFrame\n",
      "\n",
      "See the caveats in the documentation: https://pandas.pydata.org/pandas-docs/stable/user_guide/indexing.html#returning-a-view-versus-a-copy\n",
      "  df['age_o'].fillna(1000, inplace=True)\n"
     ]
    }
   ],
   "source": [
    "df['age'].fillna(1000, inplace=True)\n",
    "df['age_o'].fillna(1000, inplace=True)"
   ]
  },
  {
   "cell_type": "code",
   "execution_count": 16,
   "id": "0e061e0f",
   "metadata": {},
   "outputs": [
    {
     "name": "stderr",
     "output_type": "stream",
     "text": [
      "/var/folders/1_/83qhk9ps6fd0yym23nn9nfz00000gn/T/ipykernel_12930/1529563408.py:1: SettingWithCopyWarning: \n",
      "A value is trying to be set on a copy of a slice from a DataFrame.\n",
      "Try using .loc[row_indexer,col_indexer] = value instead\n",
      "\n",
      "See the caveats in the documentation: https://pandas.pydata.org/pandas-docs/stable/user_guide/indexing.html#returning-a-view-versus-a-copy\n",
      "  df[['age', 'age_o']] = df[['age', 'age_o']].astype(int)\n"
     ]
    }
   ],
   "source": [
    "df[['age', 'age_o']] = df[['age', 'age_o']].astype(int)"
   ]
  },
  {
   "cell_type": "code",
   "execution_count": 17,
   "id": "a196afa9",
   "metadata": {},
   "outputs": [
    {
     "name": "stderr",
     "output_type": "stream",
     "text": [
      "/var/folders/1_/83qhk9ps6fd0yym23nn9nfz00000gn/T/ipykernel_12930/2209242500.py:1: SettingWithCopyWarning: \n",
      "A value is trying to be set on a copy of a slice from a DataFrame\n",
      "\n",
      "See the caveats in the documentation: https://pandas.pydata.org/pandas-docs/stable/user_guide/indexing.html#returning-a-view-versus-a-copy\n",
      "  df['age'].replace(1000, df['age'].median(), inplace=True)\n",
      "/var/folders/1_/83qhk9ps6fd0yym23nn9nfz00000gn/T/ipykernel_12930/2209242500.py:2: SettingWithCopyWarning: \n",
      "A value is trying to be set on a copy of a slice from a DataFrame\n",
      "\n",
      "See the caveats in the documentation: https://pandas.pydata.org/pandas-docs/stable/user_guide/indexing.html#returning-a-view-versus-a-copy\n",
      "  df['age_o'].replace(1000, df['age_o'].median(), inplace=True)\n"
     ]
    }
   ],
   "source": [
    "df['age'].replace(1000, df['age'].median(), inplace=True)\n",
    "df['age_o'].replace(1000, df['age_o'].median(), inplace=True)"
   ]
  },
  {
   "cell_type": "markdown",
   "id": "744c5c6d",
   "metadata": {},
   "source": [
    "### Handling Duplicate Fields in Field"
   ]
  },
  {
   "cell_type": "code",
   "execution_count": 18,
   "id": "dd2c303b",
   "metadata": {},
   "outputs": [
    {
     "name": "stderr",
     "output_type": "stream",
     "text": [
      "/var/folders/1_/83qhk9ps6fd0yym23nn9nfz00000gn/T/ipykernel_12930/3890188708.py:1: SettingWithCopyWarning: \n",
      "A value is trying to be set on a copy of a slice from a DataFrame.\n",
      "Try using .loc[row_indexer,col_indexer] = value instead\n",
      "\n",
      "See the caveats in the documentation: https://pandas.pydata.org/pandas-docs/stable/user_guide/indexing.html#returning-a-view-versus-a-copy\n",
      "  df['field'] = df['field'].str.upper()\n"
     ]
    }
   ],
   "source": [
    "df['field'] = df['field'].str.upper()"
   ]
  },
  {
   "cell_type": "code",
   "execution_count": 19,
   "id": "f0f40215",
   "metadata": {},
   "outputs": [],
   "source": [
    "from sklearn import preprocessing\n",
    "le = preprocessing.LabelEncoder()"
   ]
  },
  {
   "cell_type": "code",
   "execution_count": 20,
   "id": "16ebb28e",
   "metadata": {},
   "outputs": [
    {
     "name": "stderr",
     "output_type": "stream",
     "text": [
      "/var/folders/1_/83qhk9ps6fd0yym23nn9nfz00000gn/T/ipykernel_12930/1114238164.py:1: SettingWithCopyWarning: \n",
      "A value is trying to be set on a copy of a slice from a DataFrame.\n",
      "Try using .loc[row_indexer,col_indexer] = value instead\n",
      "\n",
      "See the caveats in the documentation: https://pandas.pydata.org/pandas-docs/stable/user_guide/indexing.html#returning-a-view-versus-a-copy\n",
      "  df['field_encoded'] = le.fit_transform(df['field'])\n"
     ]
    },
    {
     "data": {
      "text/plain": [
       "array(['ACTING', 'AFRICAN-AMERICAN STUDIES/HISTORY', 'AMERICAN STUDIES',\n",
       "       'AMERICAN STUDIES [MASTERS]', 'ANTHROPOLOGY',\n",
       "       'ANTHROPOLOGY/EDUCATION', 'APPLIED MATHS/ECONS',\n",
       "       'APPLIED PHYSIOLOGY & NUTRITION', 'ARCHITECTURE', 'ART EDUCATION',\n",
       "       'ART HISTORY', 'ART HISTORY/MEDICINE', 'ARTS ADMINISTRATION',\n",
       "       'BILINGUAL EDUCATION', 'BIOCHEMISTRY',\n",
       "       'BIOCHEMISTRY & MOLECULAR BIOPHYSICS', 'BIOCHEMISTRY/GENETICS',\n",
       "       'BIOLOGY', 'BIOLOGY PHD', 'BIOMEDICAL ENGINEERING',\n",
       "       'BIOMEDICAL INFORMATICS', 'BIOMEDICINE', 'BIOTECHNOLOGY',\n",
       "       'BUSINESS', 'BUSINESS & INTERNATIONAL AFFAIRS',\n",
       "       'BUSINESS ADMINISTRATION',\n",
       "       'BUSINESS AND INTERNATIONAL AFFAIRS [MBA/MIA DUAL DEGREE]',\n",
       "       'BUSINESS CONSULTING', 'BUSINESS SCHOOL',\n",
       "       'BUSINESS [FINANCE & MARKETING]', 'BUSINESS [MBA]',\n",
       "       'BUSINESS- MBA', 'BUSINESS/ FINANCE/ REAL ESTATE', 'BUSINESS/LAW',\n",
       "       'BUSINESS; MARKETING', 'BUSINESS; MEDIA', 'CELL BIOLOGY',\n",
       "       'CHEMISTRY', 'CLASSICS', 'CLIMATE CHANGE', 'CLIMATE DYNAMICS',\n",
       "       'CLIMATE-EARTH AND ENVIRON. SCIENCE', 'CLINICAL PSYCHOLOGY',\n",
       "       'COGNITIVE STUDIES IN EDUCATION', 'COMMUNICATIONS',\n",
       "       'COMMUNICATIONS IN EDUCATION', 'COMPARATIVE LITERATURE',\n",
       "       'COMPUTATIONAL BIOCHEMSISTRY', 'COMPUTER SCIENCE',\n",
       "       'CONSERVATION BIOLOGY', 'CONSULTING', 'COUNSELING PSYCHOLOGY',\n",
       "       'CREATIVE WRITING', 'CREATIVE WRITING - NONFICTION',\n",
       "       'CREATIVE WRITING [NONFICTION]',\n",
       "       'CURRICULUM AND TEACHING/GIFTEDNESS', 'EARLY CHILDHOOD EDUCATION',\n",
       "       'EARTH AND ENVIRONMENTAL SCIENCE', 'ECOLOGY', 'ECONOMICS',\n",
       "       'ECONOMICS AND POLITICAL SCIENCE', 'ECONOMICS; ENGLISH',\n",
       "       'ECONOMICS; SOCIOLOGY', 'ED.D. IN HIGHER EDUCATION POLICY AT TC',\n",
       "       'EDUCATION', 'EDUCATION ADMINISTRATION',\n",
       "       'EDUCATION LEADERSHIP - PUBLIC SCHOOL ADMINISTRATION',\n",
       "       'EDUCATION POLICY', 'EDUCATION- LITERACY SPECIALIST',\n",
       "       'EDUCATIONAL PSYCHOLOGY', 'ELECTRICAL ENGG.',\n",
       "       'ELECTRICAL ENGINEERING', 'ELEMENTARY EDUCATION',\n",
       "       'ELEMENTARY EDUCATION - PRESERVICE',\n",
       "       'ELEMENTARY/CHILDHOOD EDUCATION [MA]', 'ENGINEERING', 'ENGLISH',\n",
       "       'ENGLISH AND COMP LIT', 'ENGLISH EDUCATION',\n",
       "       'ENVIRONMENTAL ENGINEERING', 'EPIDEMIOLOGY', 'FILM', 'FINANACE',\n",
       "       'FINANCE', 'FINANCE&ECONOMICS', 'FINANCE/ECONOMICS',\n",
       "       'FINANCIAL ENGINEERING', 'FINANCIAL MATH', 'FRENCH',\n",
       "       'FUNDRAISING MANAGEMENT', 'GENERAL MANAGEMENT/FINANCE', 'GENETICS',\n",
       "       'GENETICS & DEVELOPMENT', 'GERMAN LITERATURE',\n",
       "       'GS POSTBACC PREMED', 'GSAS', 'HEALTH POLICY', 'HIGHER ED. - M.A.',\n",
       "       'HISTORY', 'HISTORY OF RELIGION', 'HISTORY [GSAS - PHD]',\n",
       "       'HUMAN RIGHTS', 'HUMAN RIGHTS: MIDDLE EAST',\n",
       "       'INDUSTRIAL ENGINEERING',\n",
       "       'INDUSTRIAL ENGINEERING/OPERATIONS RESEARCH',\n",
       "       'INSTRUCTIONAL MEDIA AND TECHNOLOGY', 'INSTRUCTIONAL TECH & MEDIA',\n",
       "       'INTELLECTUAL PROPERTY LAW', 'INTERNATIONAL AFFAIRS',\n",
       "       'INTERNATIONAL AFFAIRS - ECONOMIC DEVELOPMENT',\n",
       "       'INTERNATIONAL AFFAIRS - ECONOMIC POLICY',\n",
       "       'INTERNATIONAL AFFAIRS AND PUBLIC HEALTH',\n",
       "       'INTERNATIONAL AFFAIRS/BUSINESS', 'INTERNATIONAL AFFAIRS/FINANCE',\n",
       "       'INTERNATIONAL AFFAIRS/INTERNATIONAL FINANCE',\n",
       "       'INTERNATIONAL BUSINESS', 'INTERNATIONAL DEVELOPMENT',\n",
       "       'INTERNATIONAL EDUCATIONAL DEVELOPMENT',\n",
       "       'INTERNATIONAL FINANCE AND BUSINESS',\n",
       "       'INTERNATIONAL FINANCE; ECONOMIC POLICY', 'INTERNATIONAL POLITICS',\n",
       "       'INTERNATIONAL RELATIONS', 'INTERNATIONAL SECURITY POLICY - SIPA',\n",
       "       'INTRERNATIONAL AFFAIRS', 'JAPANESE LITERATURE', 'JOURNALISM',\n",
       "       'LAW', 'LAW AND ENGLISH LITERATURE [J.D./PH.D.]',\n",
       "       'LAW AND SOCIAL WORK', 'LAW/BUSINESS', 'MA BIOTECHNOLOGY',\n",
       "       'MA IN QUANTITATIVE METHODS', 'MA SCIENCE EDUCATION',\n",
       "       'MA TEACHING SOCIAL STUDIES', 'MARINE GEOPHYSICS', 'MARKETING',\n",
       "       'MASTER IN PUBLIC ADMINISTRATION',\n",
       "       'MASTER OF INTERNATIONAL AFFAIRS',\n",
       "       'MASTERS IN PUBLIC ADMINISTRATION',\n",
       "       'MASTERS OF INDUSTRIAL ENGINEERING', 'MASTERS OF SOCIAL WORK',\n",
       "       'MASTERS OF SOCIAL WORK&EDUCATION', 'MATH', 'MATH EDUCATION',\n",
       "       'MATH OF FINANCE', 'MATHEMATICAL FINANCE', 'MATHEMATICS',\n",
       "       'MATHEMATICS; PHD', 'MBA', 'MBA - PRIVATE EQUITY / REAL ESTATE',\n",
       "       'MBA / MASTER OF INTERNATIONAL AFFAIRS [SIPA]', 'MBA FINANCE',\n",
       "       'MECHANICAL ENGINEERING', 'MEDICAL INFORMATICS', 'MEDICINE',\n",
       "       'MEDICINE AND BIOCHEMISTRY', 'MFA  POETRY', 'MFA -FILM',\n",
       "       'MFA ACTING PROGRAM', 'MFA CREATIVE WRITING', 'MFA WRITING',\n",
       "       'MICROBIOLOGY', 'MODERN CHINESE LITERATURE', 'MOLECULAR BIOLOGY',\n",
       "       'MONEY', 'MUSEUM ANTHROPOLOGY', 'MUSIC EDUCATION', 'NEUROBIOLOGY',\n",
       "       'NEUROSCIENCE', 'NEUROSCIENCE AND EDUCATION',\n",
       "       'NEUROSCIENCES/STEM CELLS', 'NONFICTION WRITING', 'NUTRITION',\n",
       "       'NUTRITION/GENETICS', 'NUTRITIRON', 'OPERATIONS RESEARCH',\n",
       "       'OPERATIONS RESEARCH [SEAS]', 'ORGANIZATIONAL PSYCHOLOGY',\n",
       "       'PHILOSOPHY', 'PHILOSOPHY AND PHYSICS', 'PHILOSOPHY [PH.D.]',\n",
       "       'PHYSICS', 'PHYSICS [ASTROPHYSICS]', 'POLISH', 'POLITICAL SCIENCE',\n",
       "       'PSYCHOLOGY', 'PSYCHOLOGY AND ENGLISH', 'PUBLIC ADMINISTRATION',\n",
       "       'PUBLIC HEALTH', 'PUBLIC POLICY', 'QMSS', 'RELIGION',\n",
       "       'RELIGION; GSAS', 'SCHOOL PSYCHOLOGY', 'SIPA - ENERGY',\n",
       "       'SIPA / MIA', 'SIPA-INTERNATIONAL AFFAIRS', 'SOA -- WRITING',\n",
       "       'SOCIAL STUDIES EDUCATION', 'SOCIAL WORK', 'SOCIAL WORK/SIPA',\n",
       "       'SOCIOLOGY', 'SOCIOLOGY AND EDUCATION',\n",
       "       'SOCIOMEDICAL SCIENCES- SCHOOL OF PUBLIC HEALTH',\n",
       "       'SPEECH LANGUAGE PATHOLOGY', 'SPEECH LANGUAHE PATHOLOGY',\n",
       "       'SPEECH PATHOLOGY', 'STATISTICS', 'STATS', 'TC [HEALTH ED]',\n",
       "       'TEACHING OF ENGLISH', 'TESOL', 'THEATER',\n",
       "       'THEATRE MANAGEMENT & PRODUCING', 'THEORY', 'UNDERGRAD - GS',\n",
       "       'URBAN PLANNING', 'WORKING', 'WRITING: LITERARY NONFICTION'],\n",
       "      dtype=object)"
      ]
     },
     "execution_count": 20,
     "metadata": {},
     "output_type": "execute_result"
    }
   ],
   "source": [
    "df['field_encoded'] = le.fit_transform(df['field'])\n",
    "le.classes_\n",
    "\n",
    "#Many fields are still the same so we sub with regex"
   ]
  },
  {
   "cell_type": "code",
   "execution_count": 21,
   "id": "549ae20c",
   "metadata": {},
   "outputs": [
    {
     "data": {
      "text/plain": [
       "219"
      ]
     },
     "execution_count": 21,
     "metadata": {},
     "output_type": "execute_result"
    }
   ],
   "source": [
    "le.classes_.size"
   ]
  },
  {
   "cell_type": "code",
   "execution_count": 22,
   "id": "7e4c2df4",
   "metadata": {},
   "outputs": [
    {
     "name": "stderr",
     "output_type": "stream",
     "text": [
      "/var/folders/1_/83qhk9ps6fd0yym23nn9nfz00000gn/T/ipykernel_12930/35820736.py:1: SettingWithCopyWarning: \n",
      "A value is trying to be set on a copy of a slice from a DataFrame.\n",
      "Try using .loc[row_indexer,col_indexer] = value instead\n",
      "\n",
      "See the caveats in the documentation: https://pandas.pydata.org/pandas-docs/stable/user_guide/indexing.html#returning-a-view-versus-a-copy\n",
      "  df['field'] = df['field'].replace('.*BUSINESS.*|MBA.*|ECONOMICS.*|.*FINANCE.*', 'BUSINESS/ECONOMICS/FINANCE', regex=True)\n",
      "/var/folders/1_/83qhk9ps6fd0yym23nn9nfz00000gn/T/ipykernel_12930/35820736.py:2: SettingWithCopyWarning: \n",
      "A value is trying to be set on a copy of a slice from a DataFrame.\n",
      "Try using .loc[row_indexer,col_indexer] = value instead\n",
      "\n",
      "See the caveats in the documentation: https://pandas.pydata.org/pandas-docs/stable/user_guide/indexing.html#returning-a-view-versus-a-copy\n",
      "  df['field'] = df['field'].replace('.*INTERNATIONAL AFFAIRS.*|SIPA.*', 'INTERNATIONAL AFFAIRS', regex=True)\n",
      "/var/folders/1_/83qhk9ps6fd0yym23nn9nfz00000gn/T/ipykernel_12930/35820736.py:3: SettingWithCopyWarning: \n",
      "A value is trying to be set on a copy of a slice from a DataFrame.\n",
      "Try using .loc[row_indexer,col_indexer] = value instead\n",
      "\n",
      "See the caveats in the documentation: https://pandas.pydata.org/pandas-docs/stable/user_guide/indexing.html#returning-a-view-versus-a-copy\n",
      "  df['field'] = df['field'].replace('LAW.*', 'LAW', regex=True)\n",
      "/var/folders/1_/83qhk9ps6fd0yym23nn9nfz00000gn/T/ipykernel_12930/35820736.py:4: SettingWithCopyWarning: \n",
      "A value is trying to be set on a copy of a slice from a DataFrame.\n",
      "Try using .loc[row_indexer,col_indexer] = value instead\n",
      "\n",
      "See the caveats in the documentation: https://pandas.pydata.org/pandas-docs/stable/user_guide/indexing.html#returning-a-view-versus-a-copy\n",
      "  df['field'] = df['field'].replace('OPERATIONS RESEARCH.*', 'OPERATIONS RESEARCH', regex=True)\n",
      "/var/folders/1_/83qhk9ps6fd0yym23nn9nfz00000gn/T/ipykernel_12930/35820736.py:5: SettingWithCopyWarning: \n",
      "A value is trying to be set on a copy of a slice from a DataFrame.\n",
      "Try using .loc[row_indexer,col_indexer] = value instead\n",
      "\n",
      "See the caveats in the documentation: https://pandas.pydata.org/pandas-docs/stable/user_guide/indexing.html#returning-a-view-versus-a-copy\n",
      "  df['field'] = df['field'].replace('PHILOSOPHY.*', 'PHILOSOPHY', regex=True)\n",
      "/var/folders/1_/83qhk9ps6fd0yym23nn9nfz00000gn/T/ipykernel_12930/35820736.py:6: SettingWithCopyWarning: \n",
      "A value is trying to be set on a copy of a slice from a DataFrame.\n",
      "Try using .loc[row_indexer,col_indexer] = value instead\n",
      "\n",
      "See the caveats in the documentation: https://pandas.pydata.org/pandas-docs/stable/user_guide/indexing.html#returning-a-view-versus-a-copy\n",
      "  df['field'] = df['field'].replace('PHYSICS.*', 'PHYSICS', regex=True)\n",
      "/var/folders/1_/83qhk9ps6fd0yym23nn9nfz00000gn/T/ipykernel_12930/35820736.py:7: SettingWithCopyWarning: \n",
      "A value is trying to be set on a copy of a slice from a DataFrame.\n",
      "Try using .loc[row_indexer,col_indexer] = value instead\n",
      "\n",
      "See the caveats in the documentation: https://pandas.pydata.org/pandas-docs/stable/user_guide/indexing.html#returning-a-view-versus-a-copy\n",
      "  df['field'] = df['field'].replace('.*INDUSTRIAL ENGINEERING.*', 'INDUSTRIAL ENGINEERING', regex=True)\n",
      "/var/folders/1_/83qhk9ps6fd0yym23nn9nfz00000gn/T/ipykernel_12930/35820736.py:8: SettingWithCopyWarning: \n",
      "A value is trying to be set on a copy of a slice from a DataFrame.\n",
      "Try using .loc[row_indexer,col_indexer] = value instead\n",
      "\n",
      "See the caveats in the documentation: https://pandas.pydata.org/pandas-docs/stable/user_guide/indexing.html#returning-a-view-versus-a-copy\n",
      "  df['field'] = df['field'].replace('.*MATH.*|.*STAT.*', 'MATHEMATICS', regex=True)\n",
      "/var/folders/1_/83qhk9ps6fd0yym23nn9nfz00000gn/T/ipykernel_12930/35820736.py:9: SettingWithCopyWarning: \n",
      "A value is trying to be set on a copy of a slice from a DataFrame.\n",
      "Try using .loc[row_indexer,col_indexer] = value instead\n",
      "\n",
      "See the caveats in the documentation: https://pandas.pydata.org/pandas-docs/stable/user_guide/indexing.html#returning-a-view-versus-a-copy\n",
      "  df['field'] = df['field'].replace('ART.*', 'ART', regex=True)\n",
      "/var/folders/1_/83qhk9ps6fd0yym23nn9nfz00000gn/T/ipykernel_12930/35820736.py:10: SettingWithCopyWarning: \n",
      "A value is trying to be set on a copy of a slice from a DataFrame.\n",
      "Try using .loc[row_indexer,col_indexer] = value instead\n",
      "\n",
      "See the caveats in the documentation: https://pandas.pydata.org/pandas-docs/stable/user_guide/indexing.html#returning-a-view-versus-a-copy\n",
      "  df['field'] = df['field'].replace('.*BIO.*', 'BIOLOGY', regex=True)\n",
      "/var/folders/1_/83qhk9ps6fd0yym23nn9nfz00000gn/T/ipykernel_12930/35820736.py:11: SettingWithCopyWarning: \n",
      "A value is trying to be set on a copy of a slice from a DataFrame.\n",
      "Try using .loc[row_indexer,col_indexer] = value instead\n",
      "\n",
      "See the caveats in the documentation: https://pandas.pydata.org/pandas-docs/stable/user_guide/indexing.html#returning-a-view-versus-a-copy\n",
      "  df['field'] = df['field'].replace('.*AMERICAN.*', 'AMERICAN STUDIES', regex=True)\n",
      "/var/folders/1_/83qhk9ps6fd0yym23nn9nfz00000gn/T/ipykernel_12930/35820736.py:12: SettingWithCopyWarning: \n",
      "A value is trying to be set on a copy of a slice from a DataFrame.\n",
      "Try using .loc[row_indexer,col_indexer] = value instead\n",
      "\n",
      "See the caveats in the documentation: https://pandas.pydata.org/pandas-docs/stable/user_guide/indexing.html#returning-a-view-versus-a-copy\n",
      "  df['field'] = df['field'].replace('CLIMATE.*|ENVIRON.*|.*EARTH.*', 'ENVIRONMENTAL SCIENCE', regex=True)\n",
      "/var/folders/1_/83qhk9ps6fd0yym23nn9nfz00000gn/T/ipykernel_12930/35820736.py:13: SettingWithCopyWarning: \n",
      "A value is trying to be set on a copy of a slice from a DataFrame.\n",
      "Try using .loc[row_indexer,col_indexer] = value instead\n",
      "\n",
      "See the caveats in the documentation: https://pandas.pydata.org/pandas-docs/stable/user_guide/indexing.html#returning-a-view-versus-a-copy\n",
      "  df['field'] = df['field'].replace('.*WRITING.*', 'WRITING', regex=True)\n",
      "/var/folders/1_/83qhk9ps6fd0yym23nn9nfz00000gn/T/ipykernel_12930/35820736.py:14: SettingWithCopyWarning: \n",
      "A value is trying to be set on a copy of a slice from a DataFrame.\n",
      "Try using .loc[row_indexer,col_indexer] = value instead\n",
      "\n",
      "See the caveats in the documentation: https://pandas.pydata.org/pandas-docs/stable/user_guide/indexing.html#returning-a-view-versus-a-copy\n",
      "  df['field'] = df['field'].replace('.*SOCI.*', 'SOCIOLOGY/SOCIAL STUDIES', regex=True)\n",
      "/var/folders/1_/83qhk9ps6fd0yym23nn9nfz00000gn/T/ipykernel_12930/35820736.py:15: SettingWithCopyWarning: \n",
      "A value is trying to be set on a copy of a slice from a DataFrame.\n",
      "Try using .loc[row_indexer,col_indexer] = value instead\n",
      "\n",
      "See the caveats in the documentation: https://pandas.pydata.org/pandas-docs/stable/user_guide/indexing.html#returning-a-view-versus-a-copy\n",
      "  df['field'] = df['field'].replace('.*NEURO.*', 'NEUROSCIENCE', regex=True)\n",
      "/var/folders/1_/83qhk9ps6fd0yym23nn9nfz00000gn/T/ipykernel_12930/35820736.py:16: SettingWithCopyWarning: \n",
      "A value is trying to be set on a copy of a slice from a DataFrame.\n",
      "Try using .loc[row_indexer,col_indexer] = value instead\n",
      "\n",
      "See the caveats in the documentation: https://pandas.pydata.org/pandas-docs/stable/user_guide/indexing.html#returning-a-view-versus-a-copy\n",
      "  df['field'] = df['field'].replace('.*ENGLISH.*|.*GERMAN.*|.*POLISH.*|.*FRENCH.*|.*LANG.*|.*CHINE.*|.*JAP.*', 'LANGUAGES', regex=True)\n",
      "/var/folders/1_/83qhk9ps6fd0yym23nn9nfz00000gn/T/ipykernel_12930/35820736.py:17: SettingWithCopyWarning: \n",
      "A value is trying to be set on a copy of a slice from a DataFrame.\n",
      "Try using .loc[row_indexer,col_indexer] = value instead\n",
      "\n",
      "See the caveats in the documentation: https://pandas.pydata.org/pandas-docs/stable/user_guide/indexing.html#returning-a-view-versus-a-copy\n",
      "  df['field'] = df['field'].replace('.*HIST.*', 'HISTORY', regex=True)\n",
      "/var/folders/1_/83qhk9ps6fd0yym23nn9nfz00000gn/T/ipykernel_12930/35820736.py:18: SettingWithCopyWarning: \n",
      "A value is trying to be set on a copy of a slice from a DataFrame.\n",
      "Try using .loc[row_indexer,col_indexer] = value instead\n",
      "\n",
      "See the caveats in the documentation: https://pandas.pydata.org/pandas-docs/stable/user_guide/indexing.html#returning-a-view-versus-a-copy\n",
      "  df['field'] = df['field'].replace('.*PSYCH.*', 'PSYCHOLOGY', regex=True)\n",
      "/var/folders/1_/83qhk9ps6fd0yym23nn9nfz00000gn/T/ipykernel_12930/35820736.py:19: SettingWithCopyWarning: \n",
      "A value is trying to be set on a copy of a slice from a DataFrame.\n",
      "Try using .loc[row_indexer,col_indexer] = value instead\n",
      "\n",
      "See the caveats in the documentation: https://pandas.pydata.org/pandas-docs/stable/user_guide/indexing.html#returning-a-view-versus-a-copy\n",
      "  df['field'] = df['field'].replace('.*ANTH.*', 'ANTHROPOLOGY', regex=True)\n",
      "/var/folders/1_/83qhk9ps6fd0yym23nn9nfz00000gn/T/ipykernel_12930/35820736.py:20: SettingWithCopyWarning: \n",
      "A value is trying to be set on a copy of a slice from a DataFrame.\n",
      "Try using .loc[row_indexer,col_indexer] = value instead\n",
      "\n",
      "See the caveats in the documentation: https://pandas.pydata.org/pandas-docs/stable/user_guide/indexing.html#returning-a-view-versus-a-copy\n",
      "  df['field'] = df['field'].replace('.*EDU.*', 'EDUCATION', regex=True)\n",
      "/var/folders/1_/83qhk9ps6fd0yym23nn9nfz00000gn/T/ipykernel_12930/35820736.py:21: SettingWithCopyWarning: \n",
      "A value is trying to be set on a copy of a slice from a DataFrame.\n",
      "Try using .loc[row_indexer,col_indexer] = value instead\n",
      "\n",
      "See the caveats in the documentation: https://pandas.pydata.org/pandas-docs/stable/user_guide/indexing.html#returning-a-view-versus-a-copy\n",
      "  df['field'] = df['field'].replace('.*THEA.*', 'THEATER', regex=True)\n",
      "/var/folders/1_/83qhk9ps6fd0yym23nn9nfz00000gn/T/ipykernel_12930/35820736.py:22: SettingWithCopyWarning: \n",
      "A value is trying to be set on a copy of a slice from a DataFrame.\n",
      "Try using .loc[row_indexer,col_indexer] = value instead\n",
      "\n",
      "See the caveats in the documentation: https://pandas.pydata.org/pandas-docs/stable/user_guide/indexing.html#returning-a-view-versus-a-copy\n",
      "  df['field'] = df['field'].replace('.*RELI.*', 'RELIGION', regex=True)\n"
     ]
    }
   ],
   "source": [
    "df['field'] = df['field'].replace('.*BUSINESS.*|MBA.*|ECONOMICS.*|.*FINANCE.*', 'BUSINESS/ECONOMICS/FINANCE', regex=True)\n",
    "df['field'] = df['field'].replace('.*INTERNATIONAL AFFAIRS.*|SIPA.*', 'INTERNATIONAL AFFAIRS', regex=True)\n",
    "df['field'] = df['field'].replace('LAW.*', 'LAW', regex=True)\n",
    "df['field'] = df['field'].replace('OPERATIONS RESEARCH.*', 'OPERATIONS RESEARCH', regex=True)\n",
    "df['field'] = df['field'].replace('PHILOSOPHY.*', 'PHILOSOPHY', regex=True)\n",
    "df['field'] = df['field'].replace('PHYSICS.*', 'PHYSICS', regex=True)\n",
    "df['field'] = df['field'].replace('.*INDUSTRIAL ENGINEERING.*', 'INDUSTRIAL ENGINEERING', regex=True)\n",
    "df['field'] = df['field'].replace('.*MATH.*|.*STAT.*', 'MATHEMATICS', regex=True)\n",
    "df['field'] = df['field'].replace('ART.*', 'ART', regex=True)\n",
    "df['field'] = df['field'].replace('.*BIO.*', 'BIOLOGY', regex=True)\n",
    "df['field'] = df['field'].replace('.*AMERICAN.*', 'AMERICAN STUDIES', regex=True)\n",
    "df['field'] = df['field'].replace('CLIMATE.*|ENVIRON.*|.*EARTH.*', 'ENVIRONMENTAL SCIENCE', regex=True)\n",
    "df['field'] = df['field'].replace('.*WRITING.*', 'WRITING', regex=True)\n",
    "df['field'] = df['field'].replace('.*SOCI.*', 'SOCIOLOGY/SOCIAL STUDIES', regex=True)\n",
    "df['field'] = df['field'].replace('.*NEURO.*', 'NEUROSCIENCE', regex=True)\n",
    "df['field'] = df['field'].replace('.*ENGLISH.*|.*GERMAN.*|.*POLISH.*|.*FRENCH.*|.*LANG.*|.*CHINE.*|.*JAP.*', 'LANGUAGES', regex=True)\n",
    "df['field'] = df['field'].replace('.*HIST.*', 'HISTORY', regex=True)\n",
    "df['field'] = df['field'].replace('.*PSYCH.*', 'PSYCHOLOGY', regex=True)\n",
    "df['field'] = df['field'].replace('.*ANTH.*', 'ANTHROPOLOGY', regex=True)\n",
    "df['field'] = df['field'].replace('.*EDU.*', 'EDUCATION', regex=True)\n",
    "df['field'] = df['field'].replace('.*THEA.*', 'THEATER', regex=True)\n",
    "df['field'] = df['field'].replace('.*RELI.*', 'RELIGION', regex=True)\n"
   ]
  },
  {
   "cell_type": "code",
   "execution_count": 23,
   "id": "c9751de3",
   "metadata": {},
   "outputs": [
    {
     "name": "stderr",
     "output_type": "stream",
     "text": [
      "/var/folders/1_/83qhk9ps6fd0yym23nn9nfz00000gn/T/ipykernel_12930/2565965970.py:1: SettingWithCopyWarning: \n",
      "A value is trying to be set on a copy of a slice from a DataFrame.\n",
      "Try using .loc[row_indexer,col_indexer] = value instead\n",
      "\n",
      "See the caveats in the documentation: https://pandas.pydata.org/pandas-docs/stable/user_guide/indexing.html#returning-a-view-versus-a-copy\n",
      "  df['field_encoded'] = le.fit_transform(df['field'])\n"
     ]
    },
    {
     "data": {
      "text/plain": [
       "86"
      ]
     },
     "execution_count": 23,
     "metadata": {},
     "output_type": "execute_result"
    }
   ],
   "source": [
    "df['field_encoded'] = le.fit_transform(df['field'])\n",
    "le.classes_.size"
   ]
  },
  {
   "cell_type": "code",
   "execution_count": null,
   "id": "89396513",
   "metadata": {},
   "outputs": [],
   "source": []
  },
  {
   "cell_type": "markdown",
   "id": "85806ae5",
   "metadata": {},
   "source": [
    "## Intervall Description\n",
    "given values are represented in fixed intervalls. These intervalls represet if a category was valued not, medium or very importand\n",
    "\n",
    "In \"importance\" columns we have the given Intervalls 0-1, 2-5, 6-10\n",
    "\n",
    "These will be represented as NOT IMPORTAND, IMPORTAND and VERY IMPORTAND"
   ]
  },
  {
   "cell_type": "code",
   "execution_count": 24,
   "id": "563faaf0",
   "metadata": {},
   "outputs": [
    {
     "name": "stderr",
     "output_type": "stream",
     "text": [
      "/var/folders/1_/83qhk9ps6fd0yym23nn9nfz00000gn/T/ipykernel_12930/212077857.py:14: SettingWithCopyWarning: \n",
      "A value is trying to be set on a copy of a slice from a DataFrame.\n",
      "Try using .loc[row_indexer,col_indexer] = value instead\n",
      "\n",
      "See the caveats in the documentation: https://pandas.pydata.org/pandas-docs/stable/user_guide/indexing.html#returning-a-view-versus-a-copy\n",
      "  df[col] = df[col].str.replace(\"[0-15]\",\"not important\",regex=False)\n",
      "/var/folders/1_/83qhk9ps6fd0yym23nn9nfz00000gn/T/ipykernel_12930/212077857.py:15: SettingWithCopyWarning: \n",
      "A value is trying to be set on a copy of a slice from a DataFrame.\n",
      "Try using .loc[row_indexer,col_indexer] = value instead\n",
      "\n",
      "See the caveats in the documentation: https://pandas.pydata.org/pandas-docs/stable/user_guide/indexing.html#returning-a-view-versus-a-copy\n",
      "  df[col] = df[col].str.replace(\"[16-20]\",\"important\",regex=False)\n",
      "/var/folders/1_/83qhk9ps6fd0yym23nn9nfz00000gn/T/ipykernel_12930/212077857.py:16: SettingWithCopyWarning: \n",
      "A value is trying to be set on a copy of a slice from a DataFrame.\n",
      "Try using .loc[row_indexer,col_indexer] = value instead\n",
      "\n",
      "See the caveats in the documentation: https://pandas.pydata.org/pandas-docs/stable/user_guide/indexing.html#returning-a-view-versus-a-copy\n",
      "  df[col] = df[col].str.replace(\"[21-100]\",\"very important\",regex=False)\n",
      "/var/folders/1_/83qhk9ps6fd0yym23nn9nfz00000gn/T/ipykernel_12930/212077857.py:18: SettingWithCopyWarning: \n",
      "A value is trying to be set on a copy of a slice from a DataFrame.\n",
      "Try using .loc[row_indexer,col_indexer] = value instead\n",
      "\n",
      "See the caveats in the documentation: https://pandas.pydata.org/pandas-docs/stable/user_guide/indexing.html#returning-a-view-versus-a-copy\n",
      "  df[col] = df[col].str.replace(\"[0-5]\",\"low\",regex=False)\n",
      "/var/folders/1_/83qhk9ps6fd0yym23nn9nfz00000gn/T/ipykernel_12930/212077857.py:19: SettingWithCopyWarning: \n",
      "A value is trying to be set on a copy of a slice from a DataFrame.\n",
      "Try using .loc[row_indexer,col_indexer] = value instead\n",
      "\n",
      "See the caveats in the documentation: https://pandas.pydata.org/pandas-docs/stable/user_guide/indexing.html#returning-a-view-versus-a-copy\n",
      "  df[col] = df[col].str.replace(\"[6-8]\",\"average\",regex=False)\n",
      "/var/folders/1_/83qhk9ps6fd0yym23nn9nfz00000gn/T/ipykernel_12930/212077857.py:20: SettingWithCopyWarning: \n",
      "A value is trying to be set on a copy of a slice from a DataFrame.\n",
      "Try using .loc[row_indexer,col_indexer] = value instead\n",
      "\n",
      "See the caveats in the documentation: https://pandas.pydata.org/pandas-docs/stable/user_guide/indexing.html#returning-a-view-versus-a-copy\n",
      "  df[col] = df[col].str.replace(\"[9-10]\",\"high\",regex=False)\n",
      "/var/folders/1_/83qhk9ps6fd0yym23nn9nfz00000gn/T/ipykernel_12930/212077857.py:22: SettingWithCopyWarning: \n",
      "A value is trying to be set on a copy of a slice from a DataFrame.\n",
      "Try using .loc[row_indexer,col_indexer] = value instead\n",
      "\n",
      "See the caveats in the documentation: https://pandas.pydata.org/pandas-docs/stable/user_guide/indexing.html#returning-a-view-versus-a-copy\n",
      "  df[col] = df[col].str.replace(\"[0-3]\",\"few\",regex=False)\n",
      "/var/folders/1_/83qhk9ps6fd0yym23nn9nfz00000gn/T/ipykernel_12930/212077857.py:23: SettingWithCopyWarning: \n",
      "A value is trying to be set on a copy of a slice from a DataFrame.\n",
      "Try using .loc[row_indexer,col_indexer] = value instead\n",
      "\n",
      "See the caveats in the documentation: https://pandas.pydata.org/pandas-docs/stable/user_guide/indexing.html#returning-a-view-versus-a-copy\n",
      "  df[col] = df[col].str.replace(\"[4-9]\",\"medium\",regex=False)\n",
      "/var/folders/1_/83qhk9ps6fd0yym23nn9nfz00000gn/T/ipykernel_12930/212077857.py:24: SettingWithCopyWarning: \n",
      "A value is trying to be set on a copy of a slice from a DataFrame.\n",
      "Try using .loc[row_indexer,col_indexer] = value instead\n",
      "\n",
      "See the caveats in the documentation: https://pandas.pydata.org/pandas-docs/stable/user_guide/indexing.html#returning-a-view-versus-a-copy\n",
      "  df[col] = df[col].str.replace(\"[10-20]\",\"a lot\",regex=False)\n",
      "/var/folders/1_/83qhk9ps6fd0yym23nn9nfz00000gn/T/ipykernel_12930/212077857.py:7: SettingWithCopyWarning: \n",
      "A value is trying to be set on a copy of a slice from a DataFrame.\n",
      "Try using .loc[row_indexer,col_indexer] = value instead\n",
      "\n",
      "See the caveats in the documentation: https://pandas.pydata.org/pandas-docs/stable/user_guide/indexing.html#returning-a-view-versus-a-copy\n",
      "  df[col] = df[col].str.replace(\"[0-1]\",\"no age difference\",regex=False)\n",
      "/var/folders/1_/83qhk9ps6fd0yym23nn9nfz00000gn/T/ipykernel_12930/212077857.py:8: SettingWithCopyWarning: \n",
      "A value is trying to be set on a copy of a slice from a DataFrame.\n",
      "Try using .loc[row_indexer,col_indexer] = value instead\n",
      "\n",
      "See the caveats in the documentation: https://pandas.pydata.org/pandas-docs/stable/user_guide/indexing.html#returning-a-view-versus-a-copy\n",
      "  df[col] = df[col].str.replace(\"[2-3]\",\"small age difference\",regex=False)\n",
      "/var/folders/1_/83qhk9ps6fd0yym23nn9nfz00000gn/T/ipykernel_12930/212077857.py:9: SettingWithCopyWarning: \n",
      "A value is trying to be set on a copy of a slice from a DataFrame.\n",
      "Try using .loc[row_indexer,col_indexer] = value instead\n",
      "\n",
      "See the caveats in the documentation: https://pandas.pydata.org/pandas-docs/stable/user_guide/indexing.html#returning-a-view-versus-a-copy\n",
      "  df[col] = df[col].str.replace(\"[4-6]\",\"medium age difference\",regex=False)\n",
      "/var/folders/1_/83qhk9ps6fd0yym23nn9nfz00000gn/T/ipykernel_12930/212077857.py:10: SettingWithCopyWarning: \n",
      "A value is trying to be set on a copy of a slice from a DataFrame.\n",
      "Try using .loc[row_indexer,col_indexer] = value instead\n",
      "\n",
      "See the caveats in the documentation: https://pandas.pydata.org/pandas-docs/stable/user_guide/indexing.html#returning-a-view-versus-a-copy\n",
      "  df[col] = df[col].str.replace(\"[7-37]\",\"large age difference\",regex=False)\n",
      "/var/folders/1_/83qhk9ps6fd0yym23nn9nfz00000gn/T/ipykernel_12930/212077857.py:3: SettingWithCopyWarning: \n",
      "A value is trying to be set on a copy of a slice from a DataFrame.\n",
      "Try using .loc[row_indexer,col_indexer] = value instead\n",
      "\n",
      "See the caveats in the documentation: https://pandas.pydata.org/pandas-docs/stable/user_guide/indexing.html#returning-a-view-versus-a-copy\n",
      "  df[col] = df[col].str.replace(\"[0-1]\",\"not important\",regex=False)\n",
      "/var/folders/1_/83qhk9ps6fd0yym23nn9nfz00000gn/T/ipykernel_12930/212077857.py:4: SettingWithCopyWarning: \n",
      "A value is trying to be set on a copy of a slice from a DataFrame.\n",
      "Try using .loc[row_indexer,col_indexer] = value instead\n",
      "\n",
      "See the caveats in the documentation: https://pandas.pydata.org/pandas-docs/stable/user_guide/indexing.html#returning-a-view-versus-a-copy\n",
      "  df[col] = df[col].str.replace(\"[2-5]\",\"important\",regex=False)\n",
      "/var/folders/1_/83qhk9ps6fd0yym23nn9nfz00000gn/T/ipykernel_12930/212077857.py:5: SettingWithCopyWarning: \n",
      "A value is trying to be set on a copy of a slice from a DataFrame.\n",
      "Try using .loc[row_indexer,col_indexer] = value instead\n",
      "\n",
      "See the caveats in the documentation: https://pandas.pydata.org/pandas-docs/stable/user_guide/indexing.html#returning-a-view-versus-a-copy\n",
      "  df[col] = df[col].str.replace(\"[6-10]\",\"very important\",regex=False)\n"
     ]
    }
   ],
   "source": [
    "for col in df:\n",
    "    if \"d_importance\" in col:\n",
    "        df[col] = df[col].str.replace(\"[0-1]\",\"not important\",regex=False)\n",
    "        df[col] = df[col].str.replace(\"[2-5]\",\"important\",regex=False)\n",
    "        df[col] = df[col].str.replace(\"[6-10]\",\"very important\",regex=False)\n",
    "    elif \"d_d_age\" in col:\n",
    "        df[col] = df[col].str.replace(\"[0-1]\",\"no age difference\",regex=False)\n",
    "        df[col] = df[col].str.replace(\"[2-3]\",\"small age difference\",regex=False)\n",
    "        df[col] = df[col].str.replace(\"[4-6]\",\"medium age difference\",regex=False)\n",
    "        df[col] = df[col].str.replace(\"[7-37]\",\"large age difference\",regex=False)\n",
    "    else:\n",
    "        try:\n",
    "            ## importance of partner having those attributes\n",
    "            df[col] = df[col].str.replace(\"[0-15]\",\"not important\",regex=False)\n",
    "            df[col] = df[col].str.replace(\"[16-20]\",\"important\",regex=False)\n",
    "            df[col] = df[col].str.replace(\"[21-100]\",\"very important\",regex=False)\n",
    "            ## categories for rating themselves\n",
    "            df[col] = df[col].str.replace(\"[0-5]\",\"low\",regex=False)\n",
    "            df[col] = df[col].str.replace(\"[6-8]\",\"average\",regex=False)\n",
    "            df[col] = df[col].str.replace(\"[9-10]\",\"high\",regex=False)\n",
    "            ## expected number of people interested in participant\n",
    "            df[col] = df[col].str.replace(\"[0-3]\",\"few\",regex=False)\n",
    "            df[col] = df[col].str.replace(\"[4-9]\",\"medium\",regex=False)\n",
    "            df[col] = df[col].str.replace(\"[10-20]\",\"a lot\",regex=False)\n",
    "        except:\n",
    "            d = 1\n",
    "        \n",
    "        \n",
    "\n",
    "\n"
   ]
  },
  {
   "cell_type": "markdown",
   "id": "87448f91",
   "metadata": {},
   "source": [
    "### exclude pre calculated values\n",
    "a few column also include \"expected values\", we decided to exclude them"
   ]
  },
  {
   "cell_type": "code",
   "execution_count": 25,
   "id": "4a59b32e",
   "metadata": {},
   "outputs": [
    {
     "data": {
      "text/html": [
       "<div>\n",
       "<style scoped>\n",
       "    .dataframe tbody tr th:only-of-type {\n",
       "        vertical-align: middle;\n",
       "    }\n",
       "\n",
       "    .dataframe tbody tr th {\n",
       "        vertical-align: top;\n",
       "    }\n",
       "\n",
       "    .dataframe thead th {\n",
       "        text-align: right;\n",
       "    }\n",
       "</style>\n",
       "<table border=\"1\" class=\"dataframe\">\n",
       "  <thead>\n",
       "    <tr style=\"text-align: right;\">\n",
       "      <th></th>\n",
       "      <th>id</th>\n",
       "      <th>has_null</th>\n",
       "      <th>wave</th>\n",
       "      <th>gender</th>\n",
       "      <th>age</th>\n",
       "      <th>age_o</th>\n",
       "      <th>d_age</th>\n",
       "      <th>d_d_age</th>\n",
       "      <th>race</th>\n",
       "      <th>race_o</th>\n",
       "      <th>...</th>\n",
       "      <th>d_yoga</th>\n",
       "      <th>interests_correlate</th>\n",
       "      <th>d_interests_correlate</th>\n",
       "      <th>like</th>\n",
       "      <th>d_like</th>\n",
       "      <th>met</th>\n",
       "      <th>decision</th>\n",
       "      <th>decision_o</th>\n",
       "      <th>match</th>\n",
       "      <th>field_encoded</th>\n",
       "    </tr>\n",
       "  </thead>\n",
       "  <tbody>\n",
       "    <tr>\n",
       "      <th>0</th>\n",
       "      <td>1</td>\n",
       "      <td>0</td>\n",
       "      <td>1</td>\n",
       "      <td>female</td>\n",
       "      <td>21</td>\n",
       "      <td>27</td>\n",
       "      <td>6</td>\n",
       "      <td>medium age difference</td>\n",
       "      <td>Asian/Pacific Islander/Asian-American</td>\n",
       "      <td>European/Caucasian-American</td>\n",
       "      <td>...</td>\n",
       "      <td>low</td>\n",
       "      <td>0.14</td>\n",
       "      <td>[0-0.33]</td>\n",
       "      <td>7</td>\n",
       "      <td>average</td>\n",
       "      <td>0</td>\n",
       "      <td>1</td>\n",
       "      <td>0</td>\n",
       "      <td>0</td>\n",
       "      <td>48</td>\n",
       "    </tr>\n",
       "    <tr>\n",
       "      <th>1</th>\n",
       "      <td>2</td>\n",
       "      <td>0</td>\n",
       "      <td>1</td>\n",
       "      <td>female</td>\n",
       "      <td>21</td>\n",
       "      <td>22</td>\n",
       "      <td>1</td>\n",
       "      <td>no age difference</td>\n",
       "      <td>Asian/Pacific Islander/Asian-American</td>\n",
       "      <td>European/Caucasian-American</td>\n",
       "      <td>...</td>\n",
       "      <td>low</td>\n",
       "      <td>0.54</td>\n",
       "      <td>[0.33-1]</td>\n",
       "      <td>7</td>\n",
       "      <td>average</td>\n",
       "      <td>1</td>\n",
       "      <td>1</td>\n",
       "      <td>0</td>\n",
       "      <td>0</td>\n",
       "      <td>48</td>\n",
       "    </tr>\n",
       "    <tr>\n",
       "      <th>2</th>\n",
       "      <td>3</td>\n",
       "      <td>1</td>\n",
       "      <td>1</td>\n",
       "      <td>female</td>\n",
       "      <td>21</td>\n",
       "      <td>22</td>\n",
       "      <td>1</td>\n",
       "      <td>no age difference</td>\n",
       "      <td>Asian/Pacific Islander/Asian-American</td>\n",
       "      <td>Asian/Pacific Islander/Asian-American</td>\n",
       "      <td>...</td>\n",
       "      <td>low</td>\n",
       "      <td>0.16</td>\n",
       "      <td>[0-0.33]</td>\n",
       "      <td>7</td>\n",
       "      <td>average</td>\n",
       "      <td>1</td>\n",
       "      <td>1</td>\n",
       "      <td>1</td>\n",
       "      <td>1</td>\n",
       "      <td>48</td>\n",
       "    </tr>\n",
       "    <tr>\n",
       "      <th>3</th>\n",
       "      <td>4</td>\n",
       "      <td>0</td>\n",
       "      <td>1</td>\n",
       "      <td>female</td>\n",
       "      <td>21</td>\n",
       "      <td>23</td>\n",
       "      <td>2</td>\n",
       "      <td>small age difference</td>\n",
       "      <td>Asian/Pacific Islander/Asian-American</td>\n",
       "      <td>European/Caucasian-American</td>\n",
       "      <td>...</td>\n",
       "      <td>low</td>\n",
       "      <td>0.61</td>\n",
       "      <td>[0.33-1]</td>\n",
       "      <td>7</td>\n",
       "      <td>average</td>\n",
       "      <td>0</td>\n",
       "      <td>1</td>\n",
       "      <td>1</td>\n",
       "      <td>1</td>\n",
       "      <td>48</td>\n",
       "    </tr>\n",
       "    <tr>\n",
       "      <th>4</th>\n",
       "      <td>5</td>\n",
       "      <td>0</td>\n",
       "      <td>1</td>\n",
       "      <td>female</td>\n",
       "      <td>21</td>\n",
       "      <td>24</td>\n",
       "      <td>3</td>\n",
       "      <td>small age difference</td>\n",
       "      <td>Asian/Pacific Islander/Asian-American</td>\n",
       "      <td>Latino/Hispanic American</td>\n",
       "      <td>...</td>\n",
       "      <td>low</td>\n",
       "      <td>0.21</td>\n",
       "      <td>[0-0.33]</td>\n",
       "      <td>6</td>\n",
       "      <td>average</td>\n",
       "      <td>0</td>\n",
       "      <td>1</td>\n",
       "      <td>1</td>\n",
       "      <td>1</td>\n",
       "      <td>48</td>\n",
       "    </tr>\n",
       "  </tbody>\n",
       "</table>\n",
       "<p>5 rows × 117 columns</p>\n",
       "</div>"
      ],
      "text/plain": [
       "   id  has_null  wave  gender  age  age_o  d_age                d_d_age  \\\n",
       "0   1         0     1  female   21     27      6  medium age difference   \n",
       "1   2         0     1  female   21     22      1      no age difference   \n",
       "2   3         1     1  female   21     22      1      no age difference   \n",
       "3   4         0     1  female   21     23      2   small age difference   \n",
       "4   5         0     1  female   21     24      3   small age difference   \n",
       "\n",
       "                                    race  \\\n",
       "0  Asian/Pacific Islander/Asian-American   \n",
       "1  Asian/Pacific Islander/Asian-American   \n",
       "2  Asian/Pacific Islander/Asian-American   \n",
       "3  Asian/Pacific Islander/Asian-American   \n",
       "4  Asian/Pacific Islander/Asian-American   \n",
       "\n",
       "                                  race_o  ...  d_yoga  interests_correlate  \\\n",
       "0            European/Caucasian-American  ...     low                 0.14   \n",
       "1            European/Caucasian-American  ...     low                 0.54   \n",
       "2  Asian/Pacific Islander/Asian-American  ...     low                 0.16   \n",
       "3            European/Caucasian-American  ...     low                 0.61   \n",
       "4               Latino/Hispanic American  ...     low                 0.21   \n",
       "\n",
       "   d_interests_correlate like   d_like met  decision  decision_o  match  \\\n",
       "0               [0-0.33]    7  average   0         1           0      0   \n",
       "1               [0.33-1]    7  average   1         1           0      0   \n",
       "2               [0-0.33]    7  average   1         1           1      1   \n",
       "3               [0.33-1]    7  average   0         1           1      1   \n",
       "4               [0-0.33]    6  average   0         1           1      1   \n",
       "\n",
       "   field_encoded  \n",
       "0             48  \n",
       "1             48  \n",
       "2             48  \n",
       "3             48  \n",
       "4             48  \n",
       "\n",
       "[5 rows x 117 columns]"
      ]
     },
     "execution_count": 25,
     "metadata": {},
     "output_type": "execute_result"
    }
   ],
   "source": [
    "for col in df:\n",
    "    if \"expected\" in col:\n",
    "        df = df.drop(col, axis=1)\n",
    "        \n",
    "df = df.drop(['guess_prob_liked', 'd_guess_prob_liked'], axis=1)\n",
    "df.head()"
   ]
  },
  {
   "cell_type": "code",
   "execution_count": 26,
   "id": "1a83097d",
   "metadata": {},
   "outputs": [],
   "source": [
    "df.to_csv(\"out.csv\",index=False)"
   ]
  },
  {
   "cell_type": "markdown",
   "id": "e3cc43ad",
   "metadata": {},
   "source": [
    "### Handle NaN Values in \"met\" column\n",
    "met column tells if the people from speed dating has met before. Since it is not very common to meet people at speed dating more than one time we asume that cells with NaN can be filled with 0 that stands for \"have not met before\""
   ]
  },
  {
   "cell_type": "code",
   "execution_count": 27,
   "id": "4ddd557b",
   "metadata": {},
   "outputs": [
    {
     "name": "stdout",
     "output_type": "stream",
     "text": [
      "354\n",
      "0\n"
     ]
    }
   ],
   "source": [
    "print(df.met.isnull().sum())\n",
    "df[\"met\"] = df[\"met\"].fillna(0)\n",
    "print(df.met.isnull().sum())"
   ]
  },
  {
   "cell_type": "markdown",
   "id": "0ec4ced6",
   "metadata": {},
   "source": [
    "there a a few rows where multiple values are missing, we drop them because we cannot assume the values. We found out that when colomn \"sport\" is NaN than all colomns for all excercises and all \"important\" colomns are null. So we drop the rows because there is too much data we would need to simulate"
   ]
  },
  {
   "cell_type": "code",
   "execution_count": 37,
   "id": "5decfb11",
   "metadata": {},
   "outputs": [],
   "source": [
    "for index, row in df.iterrows():\n",
    "    try:\n",
    "        i = int(row[\"sports\"])\n",
    "    except:\n",
    "        df.drop(index)"
   ]
  },
  {
   "cell_type": "code",
   "execution_count": 39,
   "id": "0cef3b09",
   "metadata": {},
   "outputs": [
    {
     "data": {
      "text/plain": [
       "193"
      ]
     },
     "execution_count": 39,
     "metadata": {},
     "output_type": "execute_result"
    }
   ],
   "source": [
    "df.sports.isnull().values.sum()"
   ]
  },
  {
   "cell_type": "markdown",
   "id": "2bba9b3c",
   "metadata": {},
   "source": [
    "After that we see that we only have 193 NaN values left. For simple reasons we drop them too"
   ]
  },
  {
   "cell_type": "code",
   "execution_count": 40,
   "id": "2c69ce6e",
   "metadata": {},
   "outputs": [],
   "source": [
    "df=df.dropna()"
   ]
  },
  {
   "cell_type": "code",
   "execution_count": null,
   "id": "3a114ece",
   "metadata": {},
   "outputs": [],
   "source": []
  }
 ],
 "metadata": {
  "kernelspec": {
   "display_name": "Python 3 (ipykernel)",
   "language": "python",
   "name": "python3"
  },
  "language_info": {
   "codemirror_mode": {
    "name": "ipython",
    "version": 3
   },
   "file_extension": ".py",
   "mimetype": "text/x-python",
   "name": "python",
   "nbconvert_exporter": "python",
   "pygments_lexer": "ipython3",
   "version": "3.10.7"
  },
  "vscode": {
   "interpreter": {
    "hash": "aee8b7b246df8f9039afb4144a1f6fd8d2ca17a180786b69acc140d282b71a49"
   }
  }
 },
 "nbformat": 4,
 "nbformat_minor": 5
}
