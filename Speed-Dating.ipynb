{
 "cells": [
  {
   "cell_type": "markdown",
   "id": "a90119cf",
   "metadata": {},
   "source": [
    "## Speed Dating Data Set"
   ]
  },
  {
   "cell_type": "code",
   "execution_count": 1,
   "id": "494048e2",
   "metadata": {},
   "outputs": [],
   "source": [
    "# do the neccessary imports\n",
    "import numpy as np\n",
    "import pandas as pd\n",
    "from scipy.io.arff import loadarff"
   ]
  },
  {
   "cell_type": "code",
   "execution_count": 57,
   "id": "4145b51a",
   "metadata": {},
   "outputs": [
    {
     "name": "stdout",
     "output_type": "stream",
     "text": [
      "id                     int64\n",
      "has_null               int64\n",
      "wave                   int64\n",
      "gender                object\n",
      "age                   object\n",
      "                       ...  \n",
      "d_guess_prob_liked    object\n",
      "met                   object\n",
      "decision               int64\n",
      "decision_o             int64\n",
      "match                  int64\n",
      "Length: 124, dtype: object\n"
     ]
    },
    {
     "name": "stderr",
     "output_type": "stream",
     "text": [
      "/var/folders/1_/83qhk9ps6fd0yym23nn9nfz00000gn/T/ipykernel_18629/1451936066.py:1: DtypeWarning: Columns (4,11,12,16,17,18,19,20,40,41,42,43,44,45,52,53,54,55,56,74,75,76,77,78,79,80,81,82,83,84,85,86,87,88,89,90,108,110) have mixed types. Specify dtype option on import or set low_memory=False.\n",
      "  df = pd.read_csv('data/speed-dating/speeddating.csv')\n"
     ]
    },
    {
     "data": {
      "text/plain": [
       "(8378, 124)"
      ]
     },
     "execution_count": 57,
     "metadata": {},
     "output_type": "execute_result"
    }
   ],
   "source": [
    "#transforming arff file in csv\n",
    "df = pd.read_csv('data/speed-dating/speeddating.csv')\n",
    "print(df.dtypes)\n",
    "df.shape"
   ]
  },
  {
   "cell_type": "code",
   "execution_count": 61,
   "id": "7b9361d2",
   "metadata": {},
   "outputs": [
    {
     "name": "stdout",
     "output_type": "stream",
     "text": [
      "none\n",
      "object\n"
     ]
    },
    {
     "data": {
      "text/plain": [
       "(6884, 124)"
      ]
     },
     "execution_count": 61,
     "metadata": {},
     "output_type": "execute_result"
    }
   ],
   "source": [
    "##drop all rows where numeric values cant be converted into int\n",
    "## because some cells have float values, but poll only can be int numbers\n",
    "# so i drom them\n",
    "# wenn du das nachschauen willst schua dir col[pref_o_attractive] an\n",
    "for i in df.index:\n",
    "    try:\n",
    "        f = str(df['pref_o_attractive'][i])\n",
    "        inf = int(f)\n",
    "    except:\n",
    "        df = df.drop(i)\n",
    "#need to fix missing values written as '?' so first we replace with none\n",
    "df = df.replace('?',None)\n",
    "#is now None -> was before ?\n",
    "print(df['ambitous_o'][24])\n",
    "\n",
    "\n",
    "#cast values that can be cast to int\n",
    "for col in df:\n",
    "    try:\n",
    "        df[col]=df[col].astype(int)\n",
    "    except:\n",
    "        df[col] = df[col].astype(str)\n",
    "        #some words are Capitalized others not so we use lower case\n",
    "        df[col]=df[col].str.lower()\n",
    "        continue\n",
    "                \n",
    "##we still have type object not type int because None is \n",
    "#object and cant be cat to int\n",
    "print(df['importance_same_religion'].dtypes)\n",
    "df.shape\n"
   ]
  },
  {
   "cell_type": "code",
   "execution_count": null,
   "id": "b177cd59",
   "metadata": {},
   "outputs": [],
   "source": []
  }
 ],
 "metadata": {
  "kernelspec": {
   "display_name": "Python 3 (ipykernel)",
   "language": "python",
   "name": "python3"
  },
  "language_info": {
   "codemirror_mode": {
    "name": "ipython",
    "version": 3
   },
   "file_extension": ".py",
   "mimetype": "text/x-python",
   "name": "python",
   "nbconvert_exporter": "python",
   "pygments_lexer": "ipython3",
   "version": "3.10.7"
  }
 },
 "nbformat": 4,
 "nbformat_minor": 5
}
